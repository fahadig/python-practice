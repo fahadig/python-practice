{
 "cells": [
  {
   "cell_type": "code",
   "execution_count": 1,
   "metadata": {},
   "outputs": [
    {
     "name": "stdout",
     "output_type": "stream",
     "text": [
      "Fahad\n"
     ]
    }
   ],
   "source": [
    "print(\"Fahad\")"
   ]
  },
  {
   "cell_type": "code",
   "execution_count": 2,
   "metadata": {},
   "outputs": [
    {
     "name": "stdout",
     "output_type": "stream",
     "text": [
      "Fahad Idrees\n"
     ]
    }
   ],
   "source": [
    "name : str = \"Fahad Idrees\"\n",
    "print(name)\n"
   ]
  },
  {
   "cell_type": "markdown",
   "metadata": {},
   "source": [
    "# String datatype in Python"
   ]
  },
  {
   "cell_type": "code",
   "execution_count": 1,
   "metadata": {},
   "outputs": [
    {
     "name": "stdout",
     "output_type": "stream",
     "text": [
      "<class 'str'>\n",
      "Fahad Idrees\n"
     ]
    }
   ],
   "source": [
    "# boundries \n",
    "# 'string', \"string\",'''string''', \"\"\"string\"\"\"\n",
    "\n",
    "name : str = \"Fahad Idrees\"\n",
    "print(type(name))\n",
    "print(name)"
   ]
  },
  {
   "cell_type": "code",
   "execution_count": 4,
   "metadata": {},
   "outputs": [
    {
     "name": "stdout",
     "output_type": "stream",
     "text": [
      "<class 'str'>\n",
      "Fahad Idrees\n"
     ]
    }
   ],
   "source": [
    "name : str = 'Fahad Idrees'\n",
    "print(type(name))\n",
    "print(name)"
   ]
  },
  {
   "cell_type": "code",
   "execution_count": 5,
   "metadata": {},
   "outputs": [
    {
     "name": "stdout",
     "output_type": "stream",
     "text": [
      "<class 'str'>\n",
      "Fahad Idrees\n"
     ]
    }
   ],
   "source": [
    "name : str = \"\"\"Fahad Idrees\"\"\"\n",
    "print(type(name))\n",
    "print(name)"
   ]
  },
  {
   "cell_type": "code",
   "execution_count": 6,
   "metadata": {},
   "outputs": [
    {
     "name": "stdout",
     "output_type": "stream",
     "text": [
      "PIAIC student card \n",
      " father's name\n"
     ]
    }
   ],
   "source": [
    "message : str = \"PIAIC student card \\n father's name\"\n",
    "print(message)"
   ]
  },
  {
   "cell_type": "code",
   "execution_count": 7,
   "metadata": {},
   "outputs": [
    {
     "name": "stdout",
     "output_type": "stream",
     "text": [
      "PIAIC \"student card\" \n",
      " father name\n"
     ]
    }
   ],
   "source": [
    "message : str = 'PIAIC \"student card\" \\n father name'\n",
    "print(message)"
   ]
  },
  {
   "cell_type": "code",
   "execution_count": 9,
   "metadata": {},
   "outputs": [
    {
     "name": "stdout",
     "output_type": "stream",
     "text": [
      "PIAIC \"student card\" \n",
      " father's name\n"
     ]
    }
   ],
   "source": [
    "# convert any special character into simple character, place \\(backslash) before character\n",
    "message : str = 'PIAIC \"student card\" \\n father\\'s name'\n",
    "print(message)"
   ]
  },
  {
   "cell_type": "code",
   "execution_count": null,
   "metadata": {},
   "outputs": [],
   "source": [
    "# convert any special character into simple character, place \\(backslash) before character\n",
    "message : str = 'PIAIC \"student card\" \\n father\\'s name'\n",
    "print(message)"
   ]
  },
  {
   "cell_type": "code",
   "execution_count": 10,
   "metadata": {},
   "outputs": [
    {
     "data": {
      "text/plain": [
       "'abc'"
      ]
     },
     "execution_count": 10,
     "metadata": {},
     "output_type": "execute_result"
    }
   ],
   "source": [
    "# plus + sign will concatenate join the strings\n",
    "\"a\" + \"b\" + \"c\"\n",
    "\n"
   ]
  },
  {
   "cell_type": "markdown",
   "metadata": {},
   "source": [
    "# \"\\\\\" means line continue "
   ]
  },
  {
   "cell_type": "code",
   "execution_count": 19,
   "metadata": {},
   "outputs": [
    {
     "name": "stdout",
     "output_type": "stream",
     "text": [
      "PIAIC student card\n",
      "Student name:Fahad Idrees\n",
      "Age\n"
     ]
    }
   ],
   "source": [
    "name : str = \"Fahad Idrees\"\n",
    "fname : str = \"Muahmmad Idrees\"\n",
    "education : str = \"ACCA\"\n",
    "age : int = 38\n",
    "\n",
    "card : str = \"PIAIC student card\\nStudent name:\" + name +\"\\nAge\"\n",
    "print(card)"
   ]
  },
  {
   "cell_type": "code",
   "execution_count": 20,
   "metadata": {},
   "outputs": [
    {
     "name": "stdout",
     "output_type": "stream",
     "text": [
      "10\n"
     ]
    }
   ],
   "source": [
    "print(7+2+1)"
   ]
  },
  {
   "cell_type": "code",
   "execution_count": 21,
   "metadata": {},
   "outputs": [
    {
     "name": "stdout",
     "output_type": "stream",
     "text": [
      "10\n"
     ]
    }
   ],
   "source": [
    "print(7 +\\\n",
    "       2 +\\\n",
    "        1)"
   ]
  },
  {
   "cell_type": "code",
   "execution_count": 23,
   "metadata": {},
   "outputs": [
    {
     "name": "stdout",
     "output_type": "stream",
     "text": [
      "PIAIC student card\n",
      "Student name:Fahad Idrees\n",
      "Age:38\n"
     ]
    }
   ],
   "source": [
    "# since Name is str and Age is int, therefore there will be an error if we concatenate both, so change age type to string\n",
    "# change the int 38 to str(function which is 38)\n",
    "\n",
    "name : str = \"Fahad Idrees\"\n",
    "fname : str = \"Muahmmad Idrees\"\n",
    "education : str = \"ACCA\"\n",
    "age : int = 38\n",
    "\n",
    "card : str = \"PIAIC student card\\nStudent name:\" + name + \"\\nAge:\" + str(age)\n",
    "print(card)"
   ]
  },
  {
   "cell_type": "code",
   "execution_count": 27,
   "metadata": {},
   "outputs": [
    {
     "name": "stdout",
     "output_type": "stream",
     "text": [
      "PIAIC student card\n",
      "Student name:Fahad IdreesAge:38\n",
      "Education:ACCA\n"
     ]
    }
   ],
   "source": [
    "# since Name is str and Age is int, therefore there will be an error if we concatenate both, so change age type to string\n",
    "# change the int 38 to str(function which is 38)\n",
    "\n",
    "name : str = \"Fahad Idrees\"\n",
    "fname : str = \"Muahmmad Idrees\"\n",
    "education : str = \"ACCA\"\n",
    "age : int = 38\n",
    "\n",
    "card : str = \"PIAIC student card\\nStudent name:\" + name +\\\n",
    "      \"\\nAge:\" + str(age) +\"\\n\" +\\\n",
    "      \"Education:\" + education\n",
    "print(card)"
   ]
  },
  {
   "cell_type": "markdown",
   "metadata": {},
   "source": [
    "## Define Multiline String \"\"\" \"\"\" OR ''' ''', Then no need of \\n or \\"
   ]
  },
  {
   "cell_type": "code",
   "execution_count": 31,
   "metadata": {},
   "outputs": [
    {
     "name": "stdout",
     "output_type": "stream",
     "text": [
      "\n",
      "PIAIC Student Card\n",
      "Student Name: \"name\"\n",
      "Father's Name: ....\n",
      "Age: .....\n",
      "Education:....\n",
      "\n"
     ]
    }
   ],
   "source": [
    "name : str = \"Fahad Idrees\"\n",
    "fname : str = \"Muahmmad Idrees\"\n",
    "education : str = \"ACCA\"\n",
    "age : int = 38\n",
    "\n",
    "card : str = \"\"\"\n",
    "PIAIC Student Card\n",
    "Student Name: ....\n",
    "Father's Name: ....\n",
    "Age: .....\n",
    "Education:....\n",
    "\"\"\"\n",
    "\n",
    "print(card)"
   ]
  },
  {
   "cell_type": "markdown",
   "metadata": {},
   "source": [
    "## F-string, very powerful, the template defined in Langchain is based on F-string"
   ]
  },
  {
   "cell_type": "code",
   "execution_count": 32,
   "metadata": {},
   "outputs": [
    {
     "name": "stdout",
     "output_type": "stream",
     "text": [
      "\n",
      "PIAIC Student Card\n",
      "Student Name: Fahad Idrees\n",
      "Father's Name: Muahmmad Idrees\n",
      "Age: 38\n",
      "Education: ACCA\n",
      "\n"
     ]
    }
   ],
   "source": [
    "name : str = \"Fahad Idrees\"\n",
    "fname : str = \"Muahmmad Idrees\"\n",
    "education : str = \"ACCA\"\n",
    "age : int = 38\n",
    "\n",
    "card : str = f\"\"\"\n",
    "PIAIC Student Card\n",
    "Student Name: {name}\n",
    "Father's Name: {fname}\n",
    "Age: {age}\n",
    "Education: {education}\n",
    "\"\"\"\n",
    "\n",
    "print(card)"
   ]
  },
  {
   "cell_type": "code",
   "execution_count": 34,
   "metadata": {},
   "outputs": [
    {
     "name": "stdout",
     "output_type": "stream",
     "text": [
      "\n",
      "PIAIC Student Card\n",
      "Student Name: Fahad Idrees\n",
      "Father's Name: Muahmmad Idrees\n",
      "Age: 38\n",
      "Education: ACCA\n",
      "Total: 39\n",
      "\n"
     ]
    }
   ],
   "source": [
    "name : str = \"Fahad Idrees\"\n",
    "fname : str = \"Muahmmad Idrees\"\n",
    "education : str = \"ACCA\"\n",
    "age : int = 38\n",
    "\n",
    "card : str = f'''\n",
    "PIAIC Student Card\n",
    "Student Name: {name}\n",
    "Father's Name: {fname}\n",
    "Age: {age}\n",
    "Education: {education}\n",
    "Total: {6+7+8+9+4+5}\n",
    "'''\n",
    "\n",
    "print(card)"
   ]
  },
  {
   "cell_type": "markdown",
   "metadata": {},
   "source": [
    "## F-string and Jinja style"
   ]
  },
  {
   "cell_type": "code",
   "execution_count": 37,
   "metadata": {},
   "outputs": [
    {
     "data": {
      "text/plain": [
       "'\\nstudent name Fahad Idrees\\n'"
      ]
     },
     "execution_count": 37,
     "metadata": {},
     "output_type": "execute_result"
    }
   ],
   "source": [
    "f\"\"\"\n",
    "student name {name}\n",
    "\"\"\""
   ]
  },
  {
   "cell_type": "code",
   "execution_count": 42,
   "metadata": {},
   "outputs": [
    {
     "data": {
      "text/plain": [
       "'\\nstudent name {{name}}\\n'"
      ]
     },
     "execution_count": 42,
     "metadata": {},
     "output_type": "execute_result"
    }
   ],
   "source": [
    "#jinja\n",
    "\"\"\"\n",
    "student name {{name}}\n",
    "\"\"\""
   ]
  },
  {
   "cell_type": "code",
   "execution_count": 45,
   "metadata": {},
   "outputs": [
    {
     "name": "stdout",
     "output_type": "stream",
     "text": [
      "\n",
      "PIAIC Student Card\n",
      "Student Name: Fahad Idrees\n",
      "Father's Name: Muahmmad Idrees\n",
      "Age: 38\n",
      "Education: ACCA\n",
      "\n"
     ]
    }
   ],
   "source": [
    "name : str = \"Fahad Idrees\"\n",
    "fname : str = \"Muahmmad Idrees\"\n",
    "education : str = \"ACCA\"\n",
    "age : int = 38\n",
    "\n",
    "card : str = f'''\n",
    "PIAIC Student Card\n",
    "Student Name: %s\n",
    "Father's Name: %s\n",
    "Age: %d\n",
    "Education: %s\n",
    "''' % (name,fname,age,education)\n",
    "\n",
    "print(card)"
   ]
  },
  {
   "cell_type": "code",
   "execution_count": 47,
   "metadata": {},
   "outputs": [
    {
     "name": "stdout",
     "output_type": "stream",
     "text": [
      "Fahad idrees\n",
      "FAHAD IDREES\n",
      "fahad idrees\n"
     ]
    }
   ],
   "source": [
    "name : str = \"faHaD IDREES\"\n",
    "print(name.capitalize())\n",
    "print(name.upper())\n",
    "print(name.lower())\n"
   ]
  },
  {
   "cell_type": "code",
   "execution_count": 51,
   "metadata": {},
   "outputs": [
    {
     "data": {
      "text/plain": [
       "'Pakistan value a = 7 and value b = 8'"
      ]
     },
     "execution_count": 51,
     "metadata": {},
     "output_type": "execute_result"
    }
   ],
   "source": [
    "a = 7 \n",
    "b = 8\n",
    "# {} place holder\n",
    "#                   0                1          0 1\n",
    "\"Pakistan value a = {} and value b = {}\".format(a,b)"
   ]
  },
  {
   "cell_type": "code",
   "execution_count": 53,
   "metadata": {},
   "outputs": [
    {
     "name": "stdout",
     "output_type": "stream",
     "text": [
      "\n",
      "PIAIC Student Card\n",
      "Student Name: Fahad Idrees\n",
      "Father's Name: Muahmmad Idrees\n",
      "Age: 38\n",
      "Education: ACCA\n",
      "\n"
     ]
    }
   ],
   "source": [
    "# .format will go as per the indexing\n",
    "name : str = \"Fahad Idrees\"\n",
    "fname : str = \"Muahmmad Idrees\"\n",
    "education : str = \"ACCA\"\n",
    "age : int = 38\n",
    "\n",
    "card : str = \"\"\"\n",
    "PIAIC Student Card\n",
    "Student Name: {1}\n",
    "Father's Name: {0}\n",
    "Age: {3}\n",
    "Education: {2}\n",
    "\"\"\".format(fname,name,education,age)\n",
    "\n",
    "print(card)"
   ]
  },
  {
   "cell_type": "markdown",
   "metadata": {},
   "source": [
    "## f-string with dot format, this technique is used in template creation in LANGCHAIN"
   ]
  },
  {
   "cell_type": "markdown",
   "metadata": {},
   "source": [
    "## RECOMMENDED WAYS"
   ]
  },
  {
   "cell_type": "code",
   "execution_count": 56,
   "metadata": {},
   "outputs": [
    {
     "name": "stdout",
     "output_type": "stream",
     "text": [
      "\n",
      "PIAIC Student Card\n",
      "Student Name: Fahad Idrees\n",
      "Father's Name: Muahmmad Idrees\n",
      "Age: 38\n",
      "Education: ACCA\n",
      "\n"
     ]
    }
   ],
   "source": [
    "# f-string with dot format, this technique is used in template creation in LANGCHAIN\n",
    "name : str = \"Fahad Idrees\"\n",
    "fname : str = \"Muahmmad Idrees\"\n",
    "education : str = \"ACCA\"\n",
    "age : int = 38\n",
    "\n",
    "card : str = \"\"\"\n",
    "PIAIC Student Card\n",
    "Student Name: {a}\n",
    "Father's Name: {b}\n",
    "Age: {c}\n",
    "Education: {d}\n",
    "\"\"\".format(a=name,b=fname,c=age,d=education)\n",
    "\n",
    "print(card)"
   ]
  },
  {
   "cell_type": "code",
   "execution_count": 57,
   "metadata": {},
   "outputs": [
    {
     "name": "stdout",
     "output_type": "stream",
     "text": [
      "\n",
      "PIAIC Student Card\n",
      "Student Name: Fahad Idrees\n",
      "Father's Name: Muahmmad Idrees\n",
      "Age: 38\n",
      "Education: ACCA\n",
      "\n"
     ]
    }
   ],
   "source": [
    "name : str = \"Fahad Idrees\"\n",
    "fname : str = \"Muahmmad Idrees\"\n",
    "education : str = \"ACCA\"\n",
    "age : int = 38\n",
    "\n",
    "card : str = f\"\"\"\n",
    "PIAIC Student Card\n",
    "Student Name: {name}\n",
    "Father's Name: {fname}\n",
    "Age: {age}\n",
    "Education: {education}\n",
    "\"\"\"\n",
    "\n",
    "print(card)"
   ]
  },
  {
   "cell_type": "code",
   "execution_count": 62,
   "metadata": {},
   "outputs": [
    {
     "name": "stdout",
     "output_type": "stream",
     "text": [
      "My name is Fahad Idrees\n",
      "15\n"
     ]
    }
   ],
   "source": [
    "student_code : str = \"\"\"\n",
    "print(\"My name is Fahad Idrees\")\n",
    "a:int = 7\n",
    "b:int = 8\n",
    "print(a + b)\n",
    "\"\"\"\n",
    "exec(student_code)"
   ]
  },
  {
   "cell_type": "code",
   "execution_count": 70,
   "metadata": {},
   "outputs": [
    {
     "data": {
      "text/plain": [
       "'    fahad idrees    '"
      ]
     },
     "metadata": {},
     "output_type": "display_data"
    },
    {
     "data": {
      "text/plain": [
       "'FAHAD Idrees    '"
      ]
     },
     "metadata": {},
     "output_type": "display_data"
    },
    {
     "data": {
      "text/plain": [
       "'    FAHAD Idrees'"
      ]
     },
     "metadata": {},
     "output_type": "display_data"
    },
    {
     "data": {
      "text/plain": [
       "'FAHAD Idrees'"
      ]
     },
     "metadata": {},
     "output_type": "display_data"
    }
   ],
   "source": [
    "# variable_name.method()\n",
    "name : str = \"    FAHAD Idrees    \"\n",
    "display(name.casefold())\n",
    "display(name.lstrip())\n",
    "display(name.rstrip())\n",
    "display(name.strip())\n"
   ]
  },
  {
   "cell_type": "code",
   "execution_count": 76,
   "metadata": {},
   "outputs": [
    {
     "data": {
      "text/plain": [
       "'    FAHAD        Idrees    '"
      ]
     },
     "metadata": {},
     "output_type": "display_data"
    },
    {
     "data": {
      "text/plain": [
       "'FAHAD Idrees'"
      ]
     },
     "metadata": {},
     "output_type": "display_data"
    }
   ],
   "source": [
    "# import re = regular expression\n",
    "# \n",
    "\n",
    "import re\n",
    "\n",
    "name : str = \"    FAHAD        Idrees    \" \n",
    "display(name)\n",
    "\n",
    "#Now we will overwrite the name variable, sub=substitue, 3 things go in sub, 1='patter',2='replacement',3=variable you want to play\n",
    "# so the character will be replaced with a single space, even if there are 02 till 100 spaces)\n",
    "\n",
    "name1 : str = re.sub(' {2,100}',' ',name.strip())\n",
    "display(name1)"
   ]
  },
  {
   "cell_type": "code",
   "execution_count": null,
   "metadata": {},
   "outputs": [],
   "source": [
    "name : str = \"    FAHAD Idrees    \""
   ]
  },
  {
   "cell_type": "code",
   "execution_count": 78,
   "metadata": {},
   "outputs": [
    {
     "name": "stdout",
     "output_type": "stream",
     "text": [
      "Name:\t Fahad Idrees\n"
     ]
    }
   ],
   "source": [
    "print(\"Name:\\t Fahad Idrees\")"
   ]
  },
  {
   "cell_type": "code",
   "execution_count": 79,
   "metadata": {},
   "outputs": [
    {
     "name": "stdout",
     "output_type": "stream",
     "text": [
      "Name:\n",
      " Fahad Idrees\n"
     ]
    }
   ],
   "source": [
    "print(\"Name:\\n Fahad Idrees\")"
   ]
  },
  {
   "cell_type": "code",
   "execution_count": 80,
   "metadata": {},
   "outputs": [
    {
     "name": "stdout",
     "output_type": "stream",
     "text": [
      "Name Fahad Idrees\n"
     ]
    }
   ],
   "source": [
    "# backspace = \\b\n",
    "print(\"Name:\\b Fahad Idrees\")"
   ]
  },
  {
   "cell_type": "code",
   "execution_count": 87,
   "metadata": {},
   "outputs": [
    {
     "data": {
      "text/plain": [
       "'nostarch.com'"
      ]
     },
     "execution_count": 87,
     "metadata": {},
     "output_type": "execute_result"
    }
   ],
   "source": [
    "nostarch_url:str = 'https://nostarch.com'\n",
    "nostarch_url.removeprefix('https://')"
   ]
  }
 ],
 "metadata": {
  "kernelspec": {
   "display_name": "python12",
   "language": "python",
   "name": "python3"
  },
  "language_info": {
   "codemirror_mode": {
    "name": "ipython",
    "version": 3
   },
   "file_extension": ".py",
   "mimetype": "text/x-python",
   "name": "python",
   "nbconvert_exporter": "python",
   "pygments_lexer": "ipython3",
   "version": "3.12.1"
  }
 },
 "nbformat": 4,
 "nbformat_minor": 2
}
