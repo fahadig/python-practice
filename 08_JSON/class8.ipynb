{
 "cells": [
  {
   "cell_type": "code",
   "execution_count": 1,
   "metadata": {},
   "outputs": [
    {
     "name": "stdout",
     "output_type": "stream",
     "text": [
      "Fahad\n"
     ]
    }
   ],
   "source": [
    "print(\"Fahad\")\n"
   ]
  },
  {
   "cell_type": "code",
   "execution_count": 8,
   "metadata": {},
   "outputs": [
    {
     "name": "stdout",
     "output_type": "stream",
     "text": [
      "{}\n",
      "{'name': 'M.Qasim', 'fname': 'M.Aslam'}\n"
     ]
    }
   ],
   "source": [
    "from typing import Dict,Union,Optional\n",
    "import pprint\n",
    "\n",
    "Key = Union[int,str] #create custom type\n",
    "Value = Union[int,str,list,dict,tuple,set]\n",
    "\n",
    "data : dict[Key,Value] = {}\n",
    "print(data)\n",
    "\n",
    "data['name'] = \"M.Qasim\"\n",
    "data['fname'] = \"M.Aslam\"\n",
    "print(data)"
   ]
  },
  {
   "cell_type": "code",
   "execution_count": 11,
   "metadata": {},
   "outputs": [
    {
     "name": "stdout",
     "output_type": "stream",
     "text": [
      "{}\n",
      "{'name': 'M.Qasim', 'fname': 'M.Aslam'}\n",
      "{'name': 'Muhammad Qasim', 'fname': 'M.Aslam', 'education': 'MSDS'}\n"
     ]
    }
   ],
   "source": [
    "from typing import Dict,Union,Optional\n",
    "import pprint\n",
    "\n",
    "Key = Union[int,str] #create custom type\n",
    "Value = Union[int,str,list,dict,tuple,set]\n",
    "\n",
    "data : dict[Key,Value] = {}\n",
    "print(data)\n",
    "\n",
    "data['name'] = \"M.Qasim\"\n",
    "data['fname'] = \"M.Aslam\"\n",
    "print(data)\n",
    "\n",
    "data['name'] = \"Muhammad Qasim\"\n",
    "data['education'] = \"MSDS\"\n",
    "print(data)"
   ]
  },
  {
   "cell_type": "markdown",
   "metadata": {},
   "source": [
    "# .get function does not give error on runtime, instead it show the command you have given for a certain key"
   ]
  },
  {
   "cell_type": "code",
   "execution_count": 18,
   "metadata": {},
   "outputs": [
    {
     "name": "stdout",
     "output_type": "stream",
     "text": [
      "{}\n",
      "{'name': 'M.Qasim', 'fname': 'M.Aslam'}\n",
      "{'name': 'Muhammad Qasim', 'fname': 'M.Aslam', 'education': 'MSDS'}\n",
      "N/A\n"
     ]
    },
    {
     "data": {
      "text/plain": [
       "['clear',\n",
       " 'copy',\n",
       " 'fromkeys',\n",
       " 'get',\n",
       " 'items',\n",
       " 'keys',\n",
       " 'pop',\n",
       " 'popitem',\n",
       " 'setdefault',\n",
       " 'update',\n",
       " 'values']"
      ]
     },
     "execution_count": 18,
     "metadata": {},
     "output_type": "execute_result"
    }
   ],
   "source": [
    "from typing import Dict,Union,Optional\n",
    "import pprint\n",
    "\n",
    "Key = Union[int,str] #create custom type\n",
    "Value = Union[int,str,list,dict,tuple,set]\n",
    "\n",
    "data : dict[Key,Value] = {}\n",
    "print(data)\n",
    "\n",
    "data['name'] = \"M.Qasim\"\n",
    "data['fname'] = \"M.Aslam\"\n",
    "print(data)\n",
    "\n",
    "data['name'] = \"Muhammad Qasim\"\n",
    "data['education'] = \"MSDS\"\n",
    "print(data)\n",
    "\n",
    "print(data.get('Pakistan',\"N/A\"))\n",
    "\n",
    "[i for i in dir(data) if \"__\" not in i]"
   ]
  },
  {
   "cell_type": "code",
   "execution_count": 35,
   "metadata": {},
   "outputs": [
    {
     "name": "stdout",
     "output_type": "stream",
     "text": [
      "{'fname': 'Muhammad Aslam', 'name': 'Muhammad Qasim', 'qualification': 'MSDS'}\n",
      "dict_keys(['fname', 'name', 'qualification'])\n",
      "dict_values(['Muhammad Aslam', 'Muhammad Qasim', 'MSDS'])\n",
      "dict_items([('fname', 'Muhammad Aslam'), ('name', 'Muhammad Qasim'), ('qualification', 'MSDS')])\n",
      "fname\n",
      "name\n",
      "qualification\n"
     ]
    },
    {
     "data": {
      "text/plain": [
       "['fname', 'name', 'qualification']"
      ]
     },
     "execution_count": 35,
     "metadata": {},
     "output_type": "execute_result"
    }
   ],
   "source": [
    "from typing import Dict,Union,Optional\n",
    "import pprint\n",
    "\n",
    "Key = Union[int,str] #create custom type\n",
    "Value = Union[int,str,list,dict,tuple,set]\n",
    "\n",
    "data : dict[Key,Value] = {\n",
    "                        \"fname\" : \"Muhammad Aslam\", \n",
    "                        \"name\" :  \"Muhammad Qasim\",\n",
    "                         \"qualification\" : \"MSDS\"}\n",
    "print(data)\n",
    "\n",
    "print(data.keys())\n",
    "print(data.values())\n",
    "print(data.items())\n",
    "\n",
    "\n",
    "for k in data.keys():\n",
    "    print (k)\n",
    "\n",
    "[k for k in data.keys()] #list comprehensive style\n"
   ]
  },
  {
   "cell_type": "code",
   "execution_count": 46,
   "metadata": {},
   "outputs": [
    {
     "name": "stdout",
     "output_type": "stream",
     "text": [
      "before {'fname': 'Muhammad Aslam', 'name': 'Muhammad Qasim', 'qualification': 'MSDS'}\n",
      "after {}\n",
      "['clear', 'copy', 'fromkeys', 'get', 'items', 'keys', 'pop', 'popitem', 'setdefault', 'update', 'values']\n"
     ]
    }
   ],
   "source": [
    "from typing import Dict,Union,Optional\n",
    "import pprint\n",
    "\n",
    "Key = Union[int,str] #create custom type\n",
    "Value = Union[int,str,list,dict,tuple,set]\n",
    "\n",
    "data : dict[Key,Value] = {\n",
    "                        \"fname\" : \"Muhammad Aslam\", \n",
    "                        \"name\" :  \"Muhammad Qasim\",\n",
    "                         \"qualification\" : \"MSDS\"}\n",
    "\n",
    "print(\"before\", data)\n",
    "data.clear()\n",
    "print(\"after\", data)\n",
    "\n",
    "methods : list[str] = [m for m in dir(data) if \"__\" not in m] #fetch data object's all functions\n",
    "print(methods)"
   ]
  },
  {
   "cell_type": "code",
   "execution_count": 49,
   "metadata": {},
   "outputs": [
    {
     "name": "stdout",
     "output_type": "stream",
     "text": [
      "before {'fname': 'Muhammad Aslam', 'name': 'Muhammad Qasim', 'education': 'MSDS'}\n",
      "after {'fname': 'Muhammad Aslam', 'name': 'Muhammad Qasim'}\n",
      "['clear', 'copy', 'fromkeys', 'get', 'items', 'keys', 'pop', 'popitem', 'setdefault', 'update', 'values']\n"
     ]
    }
   ],
   "source": [
    "from typing import Dict,Union,Optional\n",
    "import pprint\n",
    "\n",
    "Key = Union[int,str] #create custom type\n",
    "Value = Union[int,str,list,dict,tuple,set]\n",
    "\n",
    "data : dict[Key,Value] = {\n",
    "                        \"fname\" : \"Muhammad Aslam\", \n",
    "                        \"name\" :  \"Muhammad Qasim\",\n",
    "                         \"education\" : \"MSDS\"}\n",
    "\n",
    "print(\"before\", data)\n",
    "a: str = data.pop(\"education\")\n",
    "print(\"after\", data)\n",
    "\n",
    "methods : list[str] = [m for m in dir(data) if \"__\" not in m] #fetch data object's all functions\n",
    "print(methods)\n"
   ]
  },
  {
   "cell_type": "code",
   "execution_count": 54,
   "metadata": {},
   "outputs": [
    {
     "name": "stdout",
     "output_type": "stream",
     "text": [
      "before {'fname': 'Muhammad Aslam', 'name': 'Muhammad Qasim', 'education': 'MSDS'}\n",
      "('education', 'MSDS')\n",
      "after {'fname': 'Muhammad Aslam', 'name': 'Muhammad Qasim'}\n",
      "['clear', 'copy', 'fromkeys', 'get', 'items', 'keys', 'pop', 'popitem', 'setdefault', 'update', 'values']\n"
     ]
    }
   ],
   "source": [
    "from typing import Dict,Union,Optional\n",
    "import pprint\n",
    "\n",
    "Key = Union[int,str] #create custom type\n",
    "Value = Union[int,str,list,dict,tuple,set]\n",
    "\n",
    "data : dict[Key,Value] = {\n",
    "                        \"fname\" : \"Muhammad Aslam\", \n",
    "                        \"name\" :  \"Muhammad Qasim\",\n",
    "                         \"education\" : \"MSDS\"}\n",
    "\n",
    "print(\"before\", data)\n",
    "a: str = data.popitem()\n",
    "print(a)\n",
    "print(\"after\", data)\n",
    "\n",
    "methods : list[str] = [m for m in dir(data) if \"__\" not in m] #fetch data object's all functions\n",
    "print(methods)\n"
   ]
  },
  {
   "cell_type": "code",
   "execution_count": 55,
   "metadata": {},
   "outputs": [
    {
     "name": "stdout",
     "output_type": "stream",
     "text": [
      "before {'fname': 'Muhammad Aslam', 'name': 'Muhammad Qasim', 'education': 'MSDS'}\n",
      "None\n",
      "after {'fname': 'Muhammad Aslam', 'name': 'Muhammad Qasim', 'education': 'MSDS', 'PAKISTAN': None}\n",
      "['clear', 'copy', 'fromkeys', 'get', 'items', 'keys', 'pop', 'popitem', 'setdefault', 'update', 'values']\n"
     ]
    }
   ],
   "source": [
    "from typing import Dict,Union,Optional\n",
    "import pprint\n",
    "\n",
    "Key = Union[int,str] #create custom type\n",
    "Value = Union[int,str,list,dict,tuple,set]\n",
    "\n",
    "data : dict[Key,Value] = {\n",
    "                        \"fname\" : \"Muhammad Aslam\", \n",
    "                        \"name\" :  \"Muhammad Qasim\",\n",
    "                         \"education\" : \"MSDS\"}\n",
    "\n",
    "print(\"before\", data)\n",
    "a: str = data.setdefault(\"PAKISTAN\")\n",
    "print(a)\n",
    "print(\"after\", data)\n",
    "\n",
    "methods : list[str] = [m for m in dir(data) if \"__\" not in m] #fetch data object's all functions\n",
    "print(methods)\n"
   ]
  },
  {
   "cell_type": "code",
   "execution_count": 59,
   "metadata": {},
   "outputs": [
    {
     "data": {
      "text/plain": [
       "{'fname': 'Muhammad Aslam',\n",
       " 'name': 'M.Qasim',\n",
       " 'education': 'MSDS',\n",
       " 'age': '30',\n",
       " 'place': 'Karachi'}"
      ]
     },
     "execution_count": 59,
     "metadata": {},
     "output_type": "execute_result"
    }
   ],
   "source": [
    "from typing import Dict,Union,Optional\n",
    "import pprint\n",
    "\n",
    "Key = Union[int,str] #create custom type\n",
    "Value = Union[int,str,list,dict,tuple,set]\n",
    "\n",
    "data : dict[Key,Value] = {\n",
    "                        \"fname\" : \"Muhammad Aslam\", \n",
    "                        \"name\" :  \"Muhammad Qasim\",\n",
    "                         \"education\" : \"MSDS\"}\n",
    "\n",
    "\n",
    "data1 : dict[Key,Value] = {\n",
    "                        \"age\" : \"30\", \n",
    "                        \"name\" :  \"M.Qasim\",\n",
    "                         \"place\" : \"Karachi\"}\n",
    "\n",
    "data.update(data1)\n",
    "\n",
    "data"
   ]
  },
  {
   "cell_type": "code",
   "execution_count": 63,
   "metadata": {},
   "outputs": [
    {
     "data": {
      "text/html": [
       "<div>\n",
       "<style scoped>\n",
       "    .dataframe tbody tr th:only-of-type {\n",
       "        vertical-align: middle;\n",
       "    }\n",
       "\n",
       "    .dataframe tbody tr th {\n",
       "        vertical-align: top;\n",
       "    }\n",
       "\n",
       "    .dataframe thead th {\n",
       "        text-align: right;\n",
       "    }\n",
       "</style>\n",
       "<table border=\"1\" class=\"dataframe\">\n",
       "  <thead>\n",
       "    <tr style=\"text-align: right;\">\n",
       "      <th></th>\n",
       "      <th>roll_num</th>\n",
       "      <th>name</th>\n",
       "      <th>education</th>\n",
       "    </tr>\n",
       "  </thead>\n",
       "  <tbody>\n",
       "    <tr>\n",
       "      <th>0</th>\n",
       "      <td>1</td>\n",
       "      <td>Sir Zia</td>\n",
       "      <td>Master</td>\n",
       "    </tr>\n",
       "    <tr>\n",
       "      <th>1</th>\n",
       "      <td>2</td>\n",
       "      <td>Sir Inam</td>\n",
       "      <td>Master</td>\n",
       "    </tr>\n",
       "    <tr>\n",
       "      <th>2</th>\n",
       "      <td>3</td>\n",
       "      <td>M.Qasim</td>\n",
       "      <td>Master</td>\n",
       "    </tr>\n",
       "  </tbody>\n",
       "</table>\n",
       "</div>"
      ],
      "text/plain": [
       "   roll_num      name education\n",
       "0         1   Sir Zia    Master\n",
       "1         2  Sir Inam    Master\n",
       "2         3   M.Qasim    Master"
      ]
     },
     "execution_count": 63,
     "metadata": {},
     "output_type": "execute_result"
    }
   ],
   "source": [
    "import pandas as pd\n",
    "from typing import Any\n",
    "\n",
    "students_data : Dict[str, list[Any]] = {\n",
    "    \"roll_num\" : [1,2,3],\n",
    "    \"name\" : [\"Sir Zia\", \"Sir Inam\", \"M.Qasim\"],\n",
    "    \"education\" : [\"Master\",\"Master\",\"Master\"]\n",
    "}\n",
    "\n",
    "df: pd.DataFrame = pd.DataFrame(students_data)\n",
    "df"
   ]
  },
  {
   "cell_type": "code",
   "execution_count": 77,
   "metadata": {},
   "outputs": [
    {
     "name": "stdout",
     "output_type": "stream",
     "text": [
      "Original position: 0\n",
      "New position: 3\n"
     ]
    }
   ],
   "source": [
    "alien_0 = {'x_position': 0, 'y_position': 25, 'speed': 'medium'}\n",
    "print(f\"Original position: {alien_0['x_position']}\")\n",
    "# Move the alien to the right.\n",
    "# Determine how far to move the alien based on its current speed.\n",
    "alien_0['speed'] = 'fast'# equal to sign has updated the speed to fast from medium*\n",
    "\n",
    "if alien_0['speed'] == 'slow':\n",
    " x_increment = 1\n",
    "elif alien_0['speed'] == 'medium':\n",
    " x_increment = 2\n",
    "else:\n",
    " # This must be a fast alien.\n",
    " x_increment = 3\n",
    "# The new position is the old position plus the increment.\n",
    "# alien_0['x_position'] = alien_0['x_position'] + x_increment\n",
    "alien_0['x_position'] += x_increment\n",
    "print(f\"New position: {alien_0['x_position']}\")"
   ]
  },
  {
   "cell_type": "code",
   "execution_count": 80,
   "metadata": {},
   "outputs": [
    {
     "name": "stdout",
     "output_type": "stream",
     "text": [
      "{'fname': 'Muhammad Aslam', 'name': 'M.Qasim', 'education': 'MSDS'}\n"
     ]
    }
   ],
   "source": [
    "Key = Union[int,str] #create custom type\n",
    "Value = Union[int,str,list,dict,tuple,set]\n",
    "\n",
    "data : dict[Key,Value] = {\n",
    "                        \"fname\" : \"Muhammad Aslam\", \n",
    "                        \"name\" :  \"Muhammad Qasim\",\n",
    "                         \"education\" : \"MSDS\",\n",
    "                         \"name\" : \"M.Qasim\"\n",
    "                         }\n",
    "\n",
    "print(data)\n"
   ]
  },
  {
   "cell_type": "code",
   "execution_count": 82,
   "metadata": {},
   "outputs": [
    {
     "name": "stdout",
     "output_type": "stream",
     "text": [
      "Sarah's favorite language is Urdu.\n"
     ]
    }
   ],
   "source": [
    "favorite_languages = {\n",
    " 'jen': 'python',\n",
    " 'sarah': 'Urdu',\n",
    " 'edward': 'rust',\n",
    " 'phil': 'python',\n",
    " }\n",
    "language = favorite_languages['sarah'].title()\n",
    "print(f\"Sarah's favorite language is {language}.\")"
   ]
  },
  {
   "cell_type": "code",
   "execution_count": 97,
   "metadata": {},
   "outputs": [
    {
     "name": "stdout",
     "output_type": "stream",
     "text": [
      "jen\n",
      "sarah\n",
      "\tsarah, you love\tc\n",
      "edward\n",
      "phil\n",
      "\tphil, you love\tpython\n"
     ]
    }
   ],
   "source": [
    "favorite_languages = {\n",
    " 'jen': 'python',\n",
    " 'sarah': 'c',\n",
    " 'edward': 'rust',\n",
    " 'phil': 'python',\n",
    " }\n",
    "\n",
    "friends = ['phil', 'sarah']\n",
    "\n",
    "for name in favorite_languages.keys():\n",
    "    print(name)\n",
    "    if name in friends:\n",
    "        language = favorite_languages[name]\n",
    "        print(f\"\\t{name}, you love\\t{language}\")"
   ]
  },
  {
   "cell_type": "code",
   "execution_count": 111,
   "metadata": {},
   "outputs": [
    {
     "name": "stdout",
     "output_type": "stream",
     "text": [
      "[{'color': 'green', 'points': 5, 'speed': 'slow'},\n",
      " {'color': 'green', 'points': 5, 'speed': 'slow'},\n",
      " {'color': 'green', 'points': 5, 'speed': 'slow'},\n",
      " {'color': 'green', 'points': 5, 'speed': 'slow'},\n",
      " {'color': 'green', 'points': 5, 'speed': 'slow'},\n",
      " {'color': 'green', 'points': 5, 'speed': 'slow'},\n",
      " {'color': 'green', 'points': 5, 'speed': 'slow'},\n",
      " {'color': 'green', 'points': 5, 'speed': 'slow'},\n",
      " {'color': 'green', 'points': 5, 'speed': 'slow'},\n",
      " {'color': 'green', 'points': 5, 'speed': 'slow'},\n",
      " {'color': 'green', 'points': 5, 'speed': 'slow'},\n",
      " {'color': 'green', 'points': 5, 'speed': 'slow'},\n",
      " {'color': 'green', 'points': 5, 'speed': 'slow'},\n",
      " {'color': 'green', 'points': 5, 'speed': 'slow'},\n",
      " {'color': 'green', 'points': 5, 'speed': 'slow'},\n",
      " {'color': 'green', 'points': 5, 'speed': 'slow'},\n",
      " {'color': 'green', 'points': 5, 'speed': 'slow'},\n",
      " {'color': 'green', 'points': 5, 'speed': 'slow'},\n",
      " {'color': 'green', 'points': 5, 'speed': 'slow'},\n",
      " {'color': 'green', 'points': 5, 'speed': 'slow'},\n",
      " {'color': 'green', 'points': 5, 'speed': 'slow'},\n",
      " {'color': 'green', 'points': 5, 'speed': 'slow'},\n",
      " {'color': 'green', 'points': 5, 'speed': 'slow'},\n",
      " {'color': 'green', 'points': 5, 'speed': 'slow'},\n",
      " {'color': 'green', 'points': 5, 'speed': 'slow'},\n",
      " {'color': 'green', 'points': 5, 'speed': 'slow'},\n",
      " {'color': 'green', 'points': 5, 'speed': 'slow'},\n",
      " {'color': 'green', 'points': 5, 'speed': 'slow'},\n",
      " {'color': 'green', 'points': 5, 'speed': 'slow'},\n",
      " {'color': 'green', 'points': 5, 'speed': 'slow'}]\n",
      "Total number of aliens: 30\n"
     ]
    }
   ],
   "source": [
    "aliens : list[dict[str,str]] = []\n",
    "import pprint\n",
    "# Make 30 green aliens.\n",
    "for alien_number in range(30):\n",
    "    new_alien = {'color': 'green', 'points': 5, 'speed': 'slow'}\n",
    "    aliens.append(new_alien)\n",
    "\n",
    "pprint.pprint(aliens)\n",
    "\n",
    "print(f\"Total number of aliens: {len(aliens)}\")"
   ]
  },
  {
   "cell_type": "code",
   "execution_count": 112,
   "metadata": {},
   "outputs": [
    {
     "name": "stdout",
     "output_type": "stream",
     "text": [
      "[{'color': 'green', 'points': 5, 'speed': 'slow'},\n",
      " {'color': 'green', 'points': 5, 'speed': 'slow'},\n",
      " {'color': 'green', 'points': 5, 'speed': 'slow'},\n",
      " {'color': 'green', 'points': 5, 'speed': 'slow'},\n",
      " {'color': 'green', 'points': 5, 'speed': 'slow'}]\n"
     ]
    }
   ],
   "source": [
    "pprint.pprint(aliens[:5])"
   ]
  },
  {
   "cell_type": "code",
   "execution_count": 115,
   "metadata": {},
   "outputs": [
    {
     "data": {
      "text/plain": [
       "[{'color': 'yellow', 'points': 10, 'speed': 'medium'},\n",
       " {'color': 'yellow', 'points': 10, 'speed': 'medium'},\n",
       " {'color': 'yellow', 'points': 10, 'speed': 'medium'},\n",
       " {'color': 'green', 'points': 5, 'speed': 'slow'},\n",
       " {'color': 'green', 'points': 5, 'speed': 'slow'},\n",
       " {'color': 'green', 'points': 5, 'speed': 'slow'},\n",
       " {'color': 'green', 'points': 5, 'speed': 'slow'},\n",
       " {'color': 'green', 'points': 5, 'speed': 'slow'},\n",
       " {'color': 'green', 'points': 5, 'speed': 'slow'},\n",
       " {'color': 'green', 'points': 5, 'speed': 'slow'}]"
      ]
     },
     "execution_count": 115,
     "metadata": {},
     "output_type": "execute_result"
    }
   ],
   "source": [
    "for alien in aliens[:3]:\n",
    "    if alien['color'] == 'green':\n",
    "        alien['color'] = 'yellow'\n",
    "        alien['speed'] = 'medium'\n",
    "        alien['points'] = 10\n",
    "\n",
    "aliens[:10]"
   ]
  },
  {
   "cell_type": "code",
   "execution_count": 117,
   "metadata": {},
   "outputs": [
    {
     "data": {
      "text/plain": [
       "[{'color': 'red', 'points': 15, 'speed': 'fast'},\n",
       " {'color': 'red', 'points': 15, 'speed': 'fast'},\n",
       " {'color': 'red', 'points': 15, 'speed': 'fast'},\n",
       " {'color': 'green', 'points': 5, 'speed': 'slow'},\n",
       " {'color': 'green', 'points': 5, 'speed': 'slow'},\n",
       " {'color': 'green', 'points': 5, 'speed': 'slow'},\n",
       " {'color': 'green', 'points': 5, 'speed': 'slow'},\n",
       " {'color': 'green', 'points': 5, 'speed': 'slow'},\n",
       " {'color': 'green', 'points': 5, 'speed': 'slow'},\n",
       " {'color': 'green', 'points': 5, 'speed': 'slow'},\n",
       " {'color': 'green', 'points': 5, 'speed': 'slow'},\n",
       " {'color': 'green', 'points': 5, 'speed': 'slow'},\n",
       " {'color': 'green', 'points': 5, 'speed': 'slow'},\n",
       " {'color': 'green', 'points': 5, 'speed': 'slow'},\n",
       " {'color': 'green', 'points': 5, 'speed': 'slow'},\n",
       " {'color': 'green', 'points': 5, 'speed': 'slow'},\n",
       " {'color': 'green', 'points': 5, 'speed': 'slow'},\n",
       " {'color': 'green', 'points': 5, 'speed': 'slow'},\n",
       " {'color': 'green', 'points': 5, 'speed': 'slow'},\n",
       " {'color': 'green', 'points': 5, 'speed': 'slow'}]"
      ]
     },
     "execution_count": 117,
     "metadata": {},
     "output_type": "execute_result"
    }
   ],
   "source": [
    "for alien in aliens[0:3]:\n",
    " if alien['color'] == 'green':\n",
    "    alien['color'] = 'yellow'\n",
    "    alien['speed'] = 'medium'\n",
    "    alien['points'] = 10\n",
    " elif alien['color'] == 'yellow':\n",
    "    alien['color'] = 'red'\n",
    "    alien['speed'] = 'fast'\n",
    "    alien['points'] = 15\n",
    "\n",
    "aliens[:20]"
   ]
  },
  {
   "cell_type": "code",
   "execution_count": 120,
   "metadata": {},
   "outputs": [
    {
     "name": "stdout",
     "output_type": "stream",
     "text": [
      "{'fname': 'Muhammad Aslam', 'name': 'Muhammad Qasim', 'education': 'MSDS'}\n",
      "<class 'dict'>\n"
     ]
    }
   ],
   "source": [
    "Key = Union[int,str] #create custom type\n",
    "Value = Union[int,str,list,dict,tuple,set]\n",
    "\n",
    "data : dict[Key,Value] = {\n",
    "                        \"fname\" : \"Muhammad Aslam\", \n",
    "                        \"name\" :  \"Muhammad Qasim\",\n",
    "                         \"education\" : \"MSDS\"}\n",
    "\n",
    "print(data)\n",
    "print(type(data))"
   ]
  },
  {
   "cell_type": "code",
   "execution_count": 125,
   "metadata": {},
   "outputs": [
    {
     "name": "stdout",
     "output_type": "stream",
     "text": [
      "<class 'str'>\n",
      "{\"fname\": \"Muhammad Aslam\", \"name\": \"Muhammad Qasim\", \"education\": \"MSDS\"}\n"
     ]
    },
    {
     "ename": "",
     "evalue": "",
     "output_type": "error",
     "traceback": [
      "\u001b[1;31mThe Kernel crashed while executing code in the the current cell or a previous cell. Please review the code in the cell(s) to identify a possible cause of the failure. Click <a href='https://aka.ms/vscodeJupyterKernelCrash'>here</a> for more info. View Jupyter <a href='command:jupyter.viewOutput'>log</a> for further details."
     ]
    }
   ],
   "source": [
    "import json\n",
    "data1 = json.dumps(data)\n",
    "\n",
    "print(type(data1))\n",
    "print(data1)"
   ]
  }
 ],
 "metadata": {
  "kernelspec": {
   "display_name": "fahadig",
   "language": "python",
   "name": "python3"
  },
  "language_info": {
   "codemirror_mode": {
    "name": "ipython",
    "version": 3
   },
   "file_extension": ".py",
   "mimetype": "text/x-python",
   "name": "python",
   "nbconvert_exporter": "python",
   "pygments_lexer": "ipython3",
   "version": "3.12.0"
  }
 },
 "nbformat": 4,
 "nbformat_minor": 2
}
