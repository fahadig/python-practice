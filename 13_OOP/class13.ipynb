{
 "cells": [
  {
   "cell_type": "code",
   "execution_count": 1,
   "metadata": {},
   "outputs": [
    {
     "name": "stdout",
     "output_type": "stream",
     "text": [
      "Fahad\n"
     ]
    }
   ],
   "source": [
    "print(\"Fahad\")"
   ]
  },
  {
   "cell_type": "markdown",
   "metadata": {},
   "source": [
    "## OOP Object oriented programing\n",
    "* Method\n",
    "    * First argument must be additional variable (self, this, or anything else)\n",
    "* Attribute\n",
    "    * connect with individual object\n",
    "\n",
    "* Constructor\n",
    "    * def ''' __init__(self,arg1,arg2) '''\n",
    "\n",
    "* Class variable (Naming convention that First alphabet of class should be in Capital)\n",
    "    * It's used for all objects\n",
    "    * 'Class_name.class_variable'\n",
    "''' \n",
    "class ClassName():\n",
    "    class_variable1 : type = value\n",
    "'''\n"
   ]
  },
  {
   "cell_type": "code",
   "execution_count": 3,
   "metadata": {},
   "outputs": [
    {
     "data": {
      "text/plain": [
       "'\\nclass ClassName():\\n    pass\\n'"
      ]
     },
     "execution_count": 3,
     "metadata": {},
     "output_type": "execute_result"
    }
   ],
   "source": [
    "## Syntax of class\n",
    "'''\n",
    "class ClassName():\n",
    "    pass\n",
    "'''"
   ]
  },
  {
   "cell_type": "code",
   "execution_count": 26,
   "metadata": {},
   "outputs": [],
   "source": [
    "'''class Teacher():\n",
    "    def __init__(self, teacher_id : int , teacher_name : str) -> None: # calling def inside the block is now a METHOD, while defining outside block is called FUNCTION\n",
    "        self.name : str = teacher_name # First argument = SELF, Name attribute created, action will not be performed\n",
    "        self.teacher_id : int = teacher_id\n",
    "\n",
    "    def speak(self, words : str)->None:\n",
    "        print(f\"{self.name} is speaking {words}\")\n",
    "\n",
    "    def teaching(self, subject : str)->None:\n",
    "        print(f\"{self.name} is teaching {subject}\")\n",
    "\n",
    "'''"
   ]
  },
  {
   "cell_type": "code",
   "execution_count": 20,
   "metadata": {},
   "outputs": [],
   "source": [
    "class Teacher():\n",
    "    def __init__(self, teacher_id: int, teacher_name: str) -> None: # with __init it becomes constructor\n",
    "        self.name: str = teacher_name       # Class will have 2 components, no.1 is Attributes\n",
    "        self.teacher_id: int = teacher_id   # Class will have 2 components, no.1 is Attributes\n",
    "        self.organization_name: str = \"PIAIC\"   # Class will have 2 components, no.1 is Attributes\n",
    "\n",
    "    def speak(self, words: str) -> None:  # Class will have 2 components, no.2 is Method (speak is function)\n",
    "        print(f\"{self.name} is speaking {words}\")   # Class will have 2 components, no.2 is Method\n",
    "\n",
    "    def teaching(self, subject: str) -> None:           # Class will have 2 components, no.2 is Method\n",
    "        print(f\"{self.name} is teaching {subject}...!\") # Class will have 2 components, no.2 is Method"
   ]
  },
  {
   "cell_type": "code",
   "execution_count": 21,
   "metadata": {},
   "outputs": [],
   "source": [
    "obj1: Teacher = Teacher(1, \"Sir Zia\") # initializing object -> calling constructor method only this time\n",
    "obj2: Teacher = Teacher(2, \"Muhammad Qasim\")"
   ]
  },
  {
   "cell_type": "code",
   "execution_count": 22,
   "metadata": {},
   "outputs": [
    {
     "name": "stdout",
     "output_type": "stream",
     "text": [
      "Sir Zia\n",
      "1\n",
      "PIAIC\n",
      "Muhammad Qasim\n",
      "2\n",
      "PIAIC\n"
     ]
    }
   ],
   "source": [
    "print(obj1.name)\n",
    "print(obj1.teacher_id)\n",
    "print(obj1.organization_name)\n",
    "\n",
    "print(obj2.name)\n",
    "print(obj2.teacher_id)\n",
    "print(obj2.organization_name)"
   ]
  },
  {
   "cell_type": "code",
   "execution_count": 23,
   "metadata": {},
   "outputs": [
    {
     "name": "stdout",
     "output_type": "stream",
     "text": [
      "Sir Zia is teaching Gen AI...!\n"
     ]
    }
   ],
   "source": [
    "obj1.teaching(\"Gen AI\")"
   ]
  },
  {
   "cell_type": "code",
   "execution_count": 19,
   "metadata": {},
   "outputs": [
    {
     "name": "stdout",
     "output_type": "stream",
     "text": [
      "Muhammad Qasim is teaching Data Science...!\n"
     ]
    }
   ],
   "source": [
    "obj2.teaching(\"Data Science\")"
   ]
  },
  {
   "cell_type": "markdown",
   "metadata": {},
   "source": [
    "# Anything which is same for Class objects is called Class variables -> they are not defined in contructor"
   ]
  },
  {
   "cell_type": "markdown",
   "metadata": {},
   "source": [
    "# Class variable (Naming convention that First alphabet of class should be in Capital)\n",
    "    * It's used for all objects\n",
    "    * 'Class_name.class_variable'\n",
    "    * 'object_name.class_variable'\n",
    "''' \n",
    "class ClassName():\n",
    "    class_variable1 : type = value\n",
    "'''\n"
   ]
  },
  {
   "cell_type": "code",
   "execution_count": 41,
   "metadata": {},
   "outputs": [
    {
     "name": "stdout",
     "output_type": "stream",
     "text": [
      "1 1\n"
     ]
    }
   ],
   "source": [
    "class Teacher():\n",
    "    counter : int = 0 # Class variable1\n",
    "    help_line_number : str = \"0315-2968211\"\n",
    "\n",
    "\n",
    "    def __init__(self, teacher_id: int, teacher_name: str) -> None: # with __init it becomes constructor\n",
    "        self.name: str = teacher_name       # Class will have 2 components, no.1 is Attributes\n",
    "        self.teacher_id: int = teacher_id   # Class will have 2 components, no.1 is Attributes\n",
    "        self.organization_name: str = \"PIAIC\"   # Class will have 2 components, no.1 is Attributes\n",
    "        Teacher.counter += 1\n",
    "\n",
    "    def speak(self, words: str) -> None:  # Class will have 2 components, no.2 is Method (speak is function)\n",
    "        print(f\"{self.name} is speaking {words}\")   # Class will have 2 components, no.2 is Method\n",
    "\n",
    "    def teaching(self, subject: str) -> None:           # Class will have 2 components, no.2 is Method\n",
    "        print(f\"{self.name} is teaching {subject}...!\") # Class will have 2 components, no.2 is Method\n",
    "\n",
    "    def details(self)->None:\n",
    "        information : str = f\"\"\"\n",
    "Teacher name is {self.name}\n",
    "helpline number is {Teacher.help_line_number}\n",
    "\"\"\"\n",
    "        print(information)\n",
    "\n",
    "obj1: Teacher = Teacher(1, \"Sir Zia\") # initializing object -> calling constructor method only this time\n",
    "\n",
    "print(Teacher.counter, obj1.counter)"
   ]
  },
  {
   "cell_type": "code",
   "execution_count": 49,
   "metadata": {},
   "outputs": [
    {
     "name": "stdout",
     "output_type": "stream",
     "text": [
      "9 9\n"
     ]
    }
   ],
   "source": [
    "obj2: Teacher = Teacher(2, \"Muhammad Qasim\")\n",
    "print(Teacher.counter, obj1.counter)\n"
   ]
  },
  {
   "cell_type": "code",
   "execution_count": 50,
   "metadata": {},
   "outputs": [
    {
     "name": "stdout",
     "output_type": "stream",
     "text": [
      "9\n",
      "9\n",
      "9\n"
     ]
    }
   ],
   "source": [
    "print(obj1.counter)\n",
    "\n",
    "print(obj2.counter)\n",
    "\n",
    "print(Teacher.counter)"
   ]
  },
  {
   "cell_type": "code",
   "execution_count": 32,
   "metadata": {},
   "outputs": [
    {
     "name": "stdout",
     "output_type": "stream",
     "text": [
      "0315-2968211\n",
      "0315-2968211\n",
      "0315-2968211\n"
     ]
    }
   ],
   "source": [
    "print(obj1.help_line_number)\n",
    "\n",
    "print(obj2.help_line_number)\n",
    "\n",
    "print(Teacher.help_line_number)"
   ]
  },
  {
   "cell_type": "code",
   "execution_count": 38,
   "metadata": {},
   "outputs": [
    {
     "name": "stdout",
     "output_type": "stream",
     "text": [
      "\n",
      "Teacher name is Sir Zia\n",
      "helpline number is 0315-2968211\n",
      "\n"
     ]
    }
   ],
   "source": [
    "obj1.details()"
   ]
  },
  {
   "cell_type": "markdown",
   "metadata": {},
   "source": [
    "## 1) Encapsulation: \n",
    "The bundling of data (attributes) and methods that operate on the data into a single unit, i.e., a class. It helps in data hiding and restricting access to the internal state of an object.\n",
    "\n",
    "## 2) Inheritance: \n",
    "The mechanism by which a new class inherits properties and behaviors from an existing class. It promotes code reuse and the creation of a hierarchy of classes.\n",
    "\n",
    "## 3) Polymorphism: \n",
    "The ability of a function or method to behave differently based on the type of object it is acting upon. Polymorphism allows objects of different types to be treated as objects of a common type.\n",
    "\n",
    "## 4) Abstraction: \n",
    "Simplifying complex systems by modeling classes based on the essential properties and behaviors relevant to the problem. It involves hiding the unnecessary details while exposing only what is necessary."
   ]
  },
  {
   "cell_type": "code",
   "execution_count": 79,
   "metadata": {},
   "outputs": [
    {
     "name": "stdout",
     "output_type": "stream",
     "text": [
      "Animation Artist\n",
      "['Python']\n"
     ]
    }
   ],
   "source": [
    "class Employee():\n",
    "    def __init__(self, name : str) -> None:\n",
    "        self.name : str = name\n",
    "        self.education : str = \"\"\n",
    "        self.department : str = \"\"\n",
    "\n",
    "class Designer(Employee):\n",
    "    def __init__(self, title : str, name : str) -> None:\n",
    "        super().__init__(name)\n",
    "        self.title : str = title\n",
    "\n",
    "class Developer(Employee):\n",
    "    def __init__(self, title:str, name : str) -> None:\n",
    "        super().__init__(name)\n",
    "        self.title : str = title\n",
    "        self.programing_skills : list[str] = [\"Python\"]\n",
    "\n",
    "\n",
    "designer1 : Designer = Designer(\"Animation Artist\",\"Asif Khan\")\n",
    "\n",
    "Dev1 : Developer = Developer(\"GerAI Eng\", \"Fahad\")\n",
    "\n",
    "print(designer1.title)\n",
    "\n",
    "print(Dev1.programing_skills)\n"
   ]
  }
 ],
 "metadata": {
  "kernelspec": {
   "display_name": "fahadig",
   "language": "python",
   "name": "python3"
  },
  "language_info": {
   "codemirror_mode": {
    "name": "ipython",
    "version": 3
   },
   "file_extension": ".py",
   "mimetype": "text/x-python",
   "name": "python",
   "nbconvert_exporter": "python",
   "pygments_lexer": "ipython3",
   "version": "3.12.0"
  }
 },
 "nbformat": 4,
 "nbformat_minor": 2
}
