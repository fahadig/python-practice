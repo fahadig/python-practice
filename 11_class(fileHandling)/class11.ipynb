{
 "cells": [
  {
   "cell_type": "code",
   "execution_count": 1,
   "metadata": {},
   "outputs": [
    {
     "name": "stdout",
     "output_type": "stream",
     "text": [
      "Fahad\n"
     ]
    }
   ],
   "source": [
    "print(\"Fahad\")"
   ]
  },
  {
   "cell_type": "markdown",
   "metadata": {},
   "source": [
    "https://www.linkedin.com/pulse/understanding-pass-by-value-vs-pass-by-reference-elhousieny-phdᴬᴮᴰ"
   ]
  },
  {
   "cell_type": "markdown",
   "metadata": {},
   "source": [
    "1. Mutable Objects\n",
    "\n",
    "  Mutable objects can be modified after creation. Examples include lists, dictionaries, and sets. Changes to these objects affect their memory contents."
   ]
  },
  {
   "cell_type": "code",
   "execution_count": 9,
   "metadata": {},
   "outputs": [
    {
     "name": "stdout",
     "output_type": "stream",
     "text": [
      "list_b: [1, 2, 3, 4]\n"
     ]
    }
   ],
   "source": [
    "list_a : list[int] = [1, 2, 3]\n",
    "\n",
    "list_b = list_a\n",
    "\n",
    "list_a.append(4) #Mutable --> changable\n",
    "\n",
    "print(\"list_b:\", list_b) # Output: list_b: [1, 2, 3, 4]\n",
    "\n"
   ]
  },
  {
   "cell_type": "markdown",
   "metadata": {},
   "source": [
    "2. Immutable Objects\n",
    "\n",
    "  Immutable objects cannot be modified once created. Examples include integers, floats, strings, and tuples. Any \"modification\" results in a new object.\n",
    "\n"
   ]
  },
  {
   "cell_type": "code",
   "execution_count": 11,
   "metadata": {},
   "outputs": [
    {
     "name": "stdout",
     "output_type": "stream",
     "text": [
      "num_b: 5\n",
      "6\n"
     ]
    }
   ],
   "source": [
    "num_a = 5\n",
    "\n",
    "num_b = num_a\n",
    "\n",
    "num_a += 1\n",
    "\n",
    "print(\"num_b:\", num_b) # Output: num_b: 5\n",
    "print(num_a)\n"
   ]
  },
  {
   "cell_type": "markdown",
   "metadata": {},
   "source": [
    "Addressing Changes without Function Calls\n",
    "\n",
    "For immutable objects, any modification creates a new object, even without function calls:\n",
    "\n"
   ]
  },
  {
   "cell_type": "code",
   "execution_count": 12,
   "metadata": {},
   "outputs": [
    {
     "name": "stdout",
     "output_type": "stream",
     "text": [
      "Before modification: 10 140714845358808\n",
      "After modification: 11 140714845358840\n"
     ]
    }
   ],
   "source": [
    "x = 10\n",
    "\n",
    "print(\"Before modification:\", x, id(x))\n",
    "\n",
    "x += 1\n",
    "\n",
    "print(\"After modification:\", x, id(x))\n",
    "\n"
   ]
  },
  {
   "cell_type": "code",
   "execution_count": 19,
   "metadata": {},
   "outputs": [
    {
     "name": "stdout",
     "output_type": "stream",
     "text": [
      "value of num1 before is 5\n",
      "value of num1 AFTER is 6\n",
      "5\n"
     ]
    }
   ],
   "source": [
    "a : int = 5\n",
    "\n",
    "def abc(num1:int)->None:\n",
    "\n",
    "    print(f\"value of num1 before is {num1}\") \n",
    "\n",
    "    num1 = 6 # copy\n",
    "\n",
    "    print(f\"value of num1 AFTER is {num1}\")\n",
    "\n",
    "abc(a) #pass by value IMMUTABLE\n",
    "\n",
    "print(a)"
   ]
  },
  {
   "cell_type": "code",
   "execution_count": 22,
   "metadata": {},
   "outputs": [
    {
     "name": "stdout",
     "output_type": "stream",
     "text": [
      "value of num1 before is [1, 2, 3, 4, 5]\n",
      "value of num1 AFTER is [1, 2, 3, 4, 5, 200]\n",
      "[1, 2, 3, 4, 5, 200]\n"
     ]
    }
   ],
   "source": [
    "a : list[int] = [1,2,3,4,5]\n",
    "\n",
    "def abc(num1:list[int])->None:\n",
    "\n",
    "    print(f\"value of num1 before is {num1}\") \n",
    "\n",
    "    num1.append(200) # copy\n",
    "\n",
    "    print(f\"value of num1 AFTER is {num1}\")\n",
    "\n",
    "abc(a) #pass by reference is Mutable CHANGEABLE\n",
    "\n",
    "print(a)\n"
   ]
  },
  {
   "cell_type": "code",
   "execution_count": 23,
   "metadata": {},
   "outputs": [
    {
     "ename": "ZeroDivisionError",
     "evalue": "division by zero",
     "output_type": "error",
     "traceback": [
      "\u001b[1;31m---------------------------------------------------------------------------\u001b[0m",
      "\u001b[1;31mZeroDivisionError\u001b[0m                         Traceback (most recent call last)",
      "Cell \u001b[1;32mIn[23], line 1\u001b[0m\n\u001b[1;32m----> 1\u001b[0m \u001b[38;5;28mprint\u001b[39m(\u001b[38;5;241;43m5\u001b[39;49m\u001b[38;5;241;43m/\u001b[39;49m\u001b[38;5;241;43m0\u001b[39;49m)\n",
      "\u001b[1;31mZeroDivisionError\u001b[0m: division by zero"
     ]
    }
   ],
   "source": [
    "print(5/0) #ERROR"
   ]
  },
  {
   "cell_type": "code",
   "execution_count": 28,
   "metadata": {},
   "outputs": [
    {
     "name": "stdout",
     "output_type": "stream",
     "text": [
      "logic1\n",
      "logic2\n",
      "ZeroDivisionError\n",
      "logic4\n",
      "logic5\n"
     ]
    }
   ],
   "source": [
    "print(\"logic1\")\n",
    "print(\"logic2\")\n",
    "\n",
    "try:\n",
    "    print(5/0)\n",
    "except ZeroDivisionError:\n",
    "    print(\"ZeroDivisionError\") # to display error for users understanding\n",
    "\n",
    "print(\"logic4\")\n",
    "print(\"logic5\")\n"
   ]
  }
 ],
 "metadata": {
  "kernelspec": {
   "display_name": "fahadig",
   "language": "python",
   "name": "python3"
  },
  "language_info": {
   "codemirror_mode": {
    "name": "ipython",
    "version": 3
   },
   "file_extension": ".py",
   "mimetype": "text/x-python",
   "name": "python",
   "nbconvert_exporter": "python",
   "pygments_lexer": "ipython3",
   "version": "3.12.0"
  }
 },
 "nbformat": 4,
 "nbformat_minor": 2
}
