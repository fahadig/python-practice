{
 "cells": [
  {
   "cell_type": "markdown",
   "metadata": {},
   "source": [
    "# DICTIONARY \n",
    "* key: value (item)\n",
    "    * key = replacement of indexes\n",
    "    * value item\n",
    "    * Dictionary starts and ends at {Curly bracket}"
   ]
  },
  {
   "cell_type": "code",
   "execution_count": 14,
   "metadata": {},
   "outputs": [
    {
     "name": "stdout",
     "output_type": "stream",
     "text": [
      "{1, 2, 3, 5, 15}\n"
     ]
    }
   ],
   "source": [
    "data : set = {3,5,3,15,5,1,2,3}\n",
    "print(data)"
   ]
  },
  {
   "cell_type": "code",
   "execution_count": 16,
   "metadata": {},
   "outputs": [
    {
     "data": {
      "text/plain": [
       "['add',\n",
       " 'clear',\n",
       " 'copy',\n",
       " 'difference',\n",
       " 'difference_update',\n",
       " 'discard',\n",
       " 'intersection',\n",
       " 'intersection_update',\n",
       " 'isdisjoint',\n",
       " 'issubset',\n",
       " 'issuperset',\n",
       " 'pop',\n",
       " 'remove',\n",
       " 'symmetric_difference',\n",
       " 'symmetric_difference_update',\n",
       " 'union',\n",
       " 'update']"
      ]
     },
     "execution_count": 16,
     "metadata": {},
     "output_type": "execute_result"
    }
   ],
   "source": [
    "[i for i in dir(data) if \"__\" not in i]"
   ]
  },
  {
   "cell_type": "markdown",
   "metadata": {},
   "source": [
    "#In Python, any immutable object (such as an integer, boolean, string, tuple) is hashable, meaning its value does not change during its lifetime. This allows Python to create a unique hash value to identify it, which can be used by dictionaries to track unique keys and sets to track unique values"
   ]
  },
  {
   "cell_type": "code",
   "execution_count": 18,
   "metadata": {},
   "outputs": [
    {
     "data": {
      "text/plain": [
       "{'fname': 'Muhammad Aslam',\n",
       " 'name': 'Muhammad Qasim',\n",
       " 'qualification': 'MSDS',\n",
       " 0: 'Pakistan'}"
      ]
     },
     "metadata": {},
     "output_type": "display_data"
    },
    {
     "name": "stdout",
     "output_type": "stream",
     "text": [
      "{0: 'Pakistan',\n",
      " 'fname': 'Muhammad Aslam',\n",
      " 'name': 'Muhammad Qasim',\n",
      " 'qualification': 'MSDS'}\n",
      "Muhammad Aslam\n"
     ]
    }
   ],
   "source": [
    "from typing import Dict,Union,Optional\n",
    "import pprint\n",
    "\n",
    "Key = Union[int,str] #create custom type\n",
    "Value = Union[int,str,list,dict,tuple,set]\n",
    "# List\n",
    "data : Dict[str,str] = {\n",
    "                        \"fname\" : \"Muhammad Aslam\", \n",
    "                        \"name\" : \"Muhammad Qasim\",\n",
    "                         \"qualification\" : \"MSDS\",\n",
    "                         0 : \"Pakistan\"}\n",
    "                        #  [1,2,3] : \"Pakistan\"} #TypeError: unhashable type: 'list'\n",
    "#This error occurs when trying to hash a list, which is an unhashable object. \n",
    "#For example, using a list as a key in a Python dictionary will cause this error since dictionaries only accept hashable data types as a key. \n",
    "#The standard way to solve this issue is to cast a list to a tuple, which is a hashable data type.\n",
    "\n",
    "display(data)\n",
    "pprint.pprint(data)\n",
    "print(data[\"fname\"])"
   ]
  },
  {
   "cell_type": "code",
   "execution_count": 26,
   "metadata": {},
   "outputs": [
    {
     "name": "stdout",
     "output_type": "stream",
     "text": [
      "{'abc': [1, 2, 3],\n",
      " 'cde': {'a': 1, 'b': 2},\n",
      " 'education': 'MSDS',\n",
      " 'efg': (1, 2, 3),\n",
      " 'fname': 'Muhammad Aslam',\n",
      " 'name': 'Muhammad Qasim',\n",
      " 'xyz': {1, 2, 3}}\n",
      "Muhammad Qasim\n",
      "Muhammad Aslam\n",
      "{1, 2, 3}\n",
      "MSDS\n"
     ]
    }
   ],
   "source": [
    "from typing import Dict,Union,Optional\n",
    "import pprint\n",
    "\n",
    "Key = Union[int,str] #create custom type\n",
    "Value = Union[int,str,list,dict,tuple,set]\n",
    "# List\n",
    "data : Dict[Key,Value] = {\n",
    "                        \"fname\" : \"Muhammad Aslam\", \n",
    "                        \"name\" : \"Muhammad Qasim\",\n",
    "                         \"education\" : \"MSDS\",\n",
    "                         \"abc\" : [1,2,3],   #list\n",
    "                         \"xyz\" : {1,2,3},   #set\n",
    "                         \"efg\" : (1,2,3),   #tuple\n",
    "                         \"cde\" : {\"a\":1,\"b\":2} #\n",
    "                        }\n",
    "\n",
    "pprint.pprint(data)\n",
    "print(data[\"name\"])\n",
    "print(data[\"fname\"])\n",
    "print(data[\"xyz\"])\n",
    "print(data[\"education\"])"
   ]
  },
  {
   "cell_type": "code",
   "execution_count": 27,
   "metadata": {},
   "outputs": [
    {
     "name": "stdout",
     "output_type": "stream",
     "text": [
      "{1, 2, 3}\n"
     ]
    }
   ],
   "source": [
    "from typing import Dict,Union,Optional\n",
    "import pprint\n",
    "\n",
    "Key = Union[int,str] #create custom type\n",
    "Value = Union[int,str,list,dict,tuple,set]\n",
    "# List\n",
    "data : Dict[Key,Value] = {\n",
    "                        \"fname\" : \"Muhammad Aslam\", \n",
    "                        \"name\" : \"Muhammad Qasim\",\n",
    "                         \"education\" : \"MSDS\",\n",
    "                         \"abc\" : [1,2,3],   #list\n",
    "                         \"xyz\" : {1,2,3},   #set\n",
    "                         \"efg\" : (1,2,3),   #tuple\n",
    "                         \"cde\" : {\"a\":1,\"b\":2} #\n",
    "                        }\n",
    "\n",
    "print(data[\"xyz\"])"
   ]
  },
  {
   "cell_type": "code",
   "execution_count": 33,
   "metadata": {},
   "outputs": [
    {
     "name": "stdout",
     "output_type": "stream",
     "text": [
      "{'a': 1, 'b': 2}\n",
      "2\n"
     ]
    }
   ],
   "source": [
    "from typing import Dict,Union,Optional\n",
    "import pprint\n",
    "\n",
    "Key = Union[int,str] #create custom type\n",
    "Value = Union[int,str,list,dict,tuple,set]\n",
    "# List\n",
    "data : Dict[Key,Value] = {\n",
    "                        \"fname\" : \"Muhammad Aslam\", \n",
    "                        \"name\" : \"Muhammad Qasim\",\n",
    "                         \"education\" : \"MSDS\",\n",
    "                         \"abc\" : [1,2,3],   #list\n",
    "                         \"xyz\" : {1,2,3},   #set\n",
    "                         \"efg\" : (1,2,3),   #tuple\n",
    "                         \"cde\" : {\"a\":1,\"b\":2} \n",
    "                         }\n",
    "\n",
    "print(data[\"cde\"])\n",
    "print(data[\"cde\"][\"b\"])"
   ]
  },
  {
   "cell_type": "code",
   "execution_count": null,
   "metadata": {},
   "outputs": [],
   "source": [
    "from typing import Dict,Union,Optional\n",
    "import pprint\n",
    "\n",
    "Key = Union[int,str] #create custom type\n",
    "Value = Union[int,str,list,dict,tuple,set]\n",
    "# List\n",
    "data : Dict[key,Value] = {}"
   ]
  },
  {
   "cell_type": "code",
   "execution_count": 37,
   "metadata": {},
   "outputs": [
    {
     "name": "stdout",
     "output_type": "stream",
     "text": [
      "{'name': 'Fahad', 'fname': 'Idrees', 'Edu': 'ACCA'}\n"
     ]
    }
   ],
   "source": [
    "from typing import Dict,Union,Optional\n",
    "import pprint\n",
    "\n",
    "Key = Union[int,str] #create custom type\n",
    "Value = Union[int,str,list,dict,tuple,set]\n",
    "# List\n",
    "data : Dict[Key,Value] = {}\n",
    "\n",
    "#new key values can be added with = assignment\n",
    "data['name'] = \"Fahad\"\n",
    "data[\"fname\"] = \"Idrees\"\n",
    "data[\"Edu\"] = \"ACCA\"\n",
    "\n",
    "print(data)"
   ]
  },
  {
   "cell_type": "code",
   "execution_count": 40,
   "metadata": {},
   "outputs": [
    {
     "name": "stdout",
     "output_type": "stream",
     "text": [
      "{'fname': 'Muhammad Aslam', 'name': 'M.Qasim', 'qualification': 'MSDS'}\n"
     ]
    }
   ],
   "source": [
    "from typing import Dict,Union,Optional\n",
    "import pprint\n",
    "\n",
    "Key = Union[int,str] #create custom type\n",
    "Value = Union[int,str,list,dict,tuple,set]\n",
    "# List\n",
    "data : Dict[str,str] = {\n",
    "                        \"fname\" : \"Muhammad Aslam\", \n",
    "                        \"name\" : \"Muhammad Qasim\",\n",
    "                         \"qualification\" : \"MSDS\"}\n",
    "\n",
    "data['name'] = \"M.Qasim\"\n",
    "\n",
    "print(data)"
   ]
  },
  {
   "cell_type": "code",
   "execution_count": 52,
   "metadata": {},
   "outputs": [
    {
     "name": "stdout",
     "output_type": "stream",
     "text": [
      "N/A\n",
      "Muhammad Qasim\n"
     ]
    },
    {
     "data": {
      "text/plain": [
       "['clear',\n",
       " 'copy',\n",
       " 'fromkeys',\n",
       " 'get',\n",
       " 'items',\n",
       " 'keys',\n",
       " 'pop',\n",
       " 'popitem',\n",
       " 'setdefault',\n",
       " 'update',\n",
       " 'values']"
      ]
     },
     "execution_count": 52,
     "metadata": {},
     "output_type": "execute_result"
    }
   ],
   "source": [
    "from typing import Dict,Union,Optional\n",
    "import pprint\n",
    "\n",
    "Key = Union[int,str] #create custom type\n",
    "Value = Union[int,str,list,dict,tuple,set]\n",
    "# List\n",
    "data : Dict[str,str] = {\n",
    "                        \"fname\" : \"Muhammad Aslam\", \n",
    "                        \"name\" : \"Muhammad Qasim\",\n",
    "                         \"qualification\" : \"MSDS\"}\n",
    "\n",
    "\n",
    "# print(data['Pakistan']) #error\n",
    "\n",
    "print(data.get(\"Pakistan\",\"N/A\")) #no error due to get\n",
    "\n",
    "print(data.get(\"name\"))\n",
    "\n",
    "[i for i in dir(data) if \"__\" not in i]\n",
    "\n",
    "\n",
    "# GET function shows a message if certain key is not available rather than showing an error"
   ]
  },
  {
   "cell_type": "code",
   "execution_count": 54,
   "metadata": {},
   "outputs": [
    {
     "name": "stdout",
     "output_type": "stream",
     "text": [
      "fname\n",
      "name\n",
      "qualification\n"
     ]
    }
   ],
   "source": [
    "from typing import Dict,Union,Optional\n",
    "import pprint\n",
    "\n",
    "Key = Union[int,str] #create custom type\n",
    "Value = Union[int,str,list,dict,tuple,set]\n",
    "# List\n",
    "data : Dict[str,str] = {\n",
    "                        \"fname\" : \"Muhammad Aslam\", \n",
    "                        \"name\" : \"Muhammad Qasim\",\n",
    "                         \"qualification\" : \"MSDS\"}\n",
    "\n",
    "for d in data:\n",
    "    print(d) #keys are extracted while performing iteration"
   ]
  },
  {
   "cell_type": "code",
   "execution_count": 59,
   "metadata": {},
   "outputs": [
    {
     "name": "stdout",
     "output_type": "stream",
     "text": [
      "dict_keys(['fname', 'name', 'qualification'])\n",
      "dict_values(['Muhammad Aslam', 'Muhammad Qasim', 'MSDS'])\n",
      "dict_items([('fname', 'Muhammad Aslam'), ('name', 'Muhammad Qasim'), ('qualification', 'MSDS')])\n"
     ]
    }
   ],
   "source": [
    "from typing import Dict,Union,Optional\n",
    "import pprint\n",
    "\n",
    "Key = Union[int,str] #create custom type\n",
    "Value = Union[int,str,list,dict,tuple,set]\n",
    "# List\n",
    "data : Dict[Key,Value] = {\n",
    "                        \"fname\" : \"Muhammad Aslam\", \n",
    "                        \"name\" : \"Muhammad Qasim\",\n",
    "                         \"qualification\" : \"MSDS\"}\n",
    "\n",
    "print(data.keys())\n",
    "print(data.values())\n",
    "print(data.items())"
   ]
  },
  {
   "cell_type": "code",
   "execution_count": 72,
   "metadata": {},
   "outputs": [
    {
     "name": "stdout",
     "output_type": "stream",
     "text": [
      "fname Muhammad Aslam\n",
      "name Muhammad Qasim\n",
      "qualification MSDS\n"
     ]
    }
   ],
   "source": [
    "from typing import Dict,Union,Optional\n",
    "import pprint\n",
    "\n",
    "Key = Union[int,str] #create custom type\n",
    "Value = Union[int,str,list,dict,tuple,set]\n",
    "# List\n",
    "data : Dict[Key,Value] = {\n",
    "                        \"fname\" : \"Muhammad Aslam\", \n",
    "                        \"name\" : \"Muhammad Qasim\",\n",
    "                         \"qualification\" : \"MSDS\"}\n",
    "\n",
    "# print(data.keys())\n",
    "# print(data.values())\n",
    "# print(data.items())\n",
    "\n",
    "for k in data.keys():\n",
    "    print(k, data[k])"
   ]
  },
  {
   "cell_type": "code",
   "execution_count": 75,
   "metadata": {},
   "outputs": [
    {
     "name": "stdout",
     "output_type": "stream",
     "text": [
      "Muhammad Aslam\n",
      "Muhammad Qasim\n",
      "MSDS\n"
     ]
    }
   ],
   "source": [
    "from typing import Dict,Union,Optional\n",
    "import pprint\n",
    "\n",
    "Key = Union[int,str] #create custom type\n",
    "Value = Union[int,str,list,dict,tuple,set]\n",
    "# List\n",
    "data : Dict[Key,Value] = {\n",
    "                        \"fname\" : \"Muhammad Aslam\", \n",
    "                        \"name\" : \"Muhammad Qasim\",\n",
    "                         \"qualification\" : \"MSDS\"}\n",
    "\n",
    "# print(data.keys())\n",
    "# print(data.values())\n",
    "# print(data.items())\n",
    "\n",
    "for v in data.values():\n",
    "    print(v)"
   ]
  },
  {
   "cell_type": "code",
   "execution_count": 79,
   "metadata": {},
   "outputs": [
    {
     "name": "stdout",
     "output_type": "stream",
     "text": [
      "fname Muhammad Aslam\n",
      "name Muhammad Qasim\n",
      "qualification MSDS\n"
     ]
    }
   ],
   "source": [
    "from typing import Dict,Union,Optional\n",
    "import pprint\n",
    "\n",
    "Key = Union[int,str] #create custom type\n",
    "Value = Union[int,str,list,dict,tuple,set]\n",
    "# List\n",
    "data : Dict[Key,Value] = {\n",
    "                        \"fname\" : \"Muhammad Aslam\", \n",
    "                        \"name\" : \"Muhammad Qasim\",\n",
    "                         \"qualification\" : \"MSDS\"}\n",
    "\n",
    "# print(data.keys())\n",
    "# print(data.values())\n",
    "# print(data.items())\n",
    "\n",
    "# for i in data.items():\n",
    "#     print(i)\n",
    "\n",
    "for k,v in data.items():\n",
    "    print(k,v)\n",
    "\n",
    "    "
   ]
  },
  {
   "cell_type": "markdown",
   "metadata": {},
   "source": [
    "# Comprehensive style --> to shuffle key and values as well"
   ]
  },
  {
   "cell_type": "code",
   "execution_count": 95,
   "metadata": {},
   "outputs": [
    {
     "data": {
      "text/plain": [
       "{'fname': 'Muhammad Aslam', 'name': 'Muhammad Qasim', 'qualification': 'MSDS'}"
      ]
     },
     "execution_count": 95,
     "metadata": {},
     "output_type": "execute_result"
    }
   ],
   "source": [
    "from typing import Dict,Union,Optional\n",
    "import pprint\n",
    "\n",
    "Key = Union[int,str] #create custom type\n",
    "Value = Union[int,str,list,dict,tuple,set]\n",
    "# List\n",
    "data : Dict[Key,Value] = {\n",
    "                        \"fname\" : \"Muhammad Aslam\", \n",
    "                        \"name\" : \"Muhammad Qasim\",\n",
    "                         \"qualification\" : \"MSDS\"}\n",
    "\n",
    "\n",
    "# for k,v in data.items(): \n",
    "#     print(k,v)\n",
    "\n",
    "\n",
    "{k:v for k,v in data.items()}\n",
    "\n",
    "\n",
    "\n"
   ]
  },
  {
   "cell_type": "code",
   "execution_count": 94,
   "metadata": {},
   "outputs": [
    {
     "data": {
      "text/plain": [
       "{'Muhammad Aslam': 'fname', 'Muhammad Qasim': 'name', 'MSDS': 'qualification'}"
      ]
     },
     "execution_count": 94,
     "metadata": {},
     "output_type": "execute_result"
    }
   ],
   "source": [
    "from typing import Dict,Union,Optional\n",
    "import pprint\n",
    "\n",
    "Key = Union[int,str] #create custom type\n",
    "Value = Union[int,str,list,dict,tuple,set]\n",
    "# List\n",
    "data : Dict[Key,Value] = {\n",
    "                        \"fname\" : \"Muhammad Aslam\", \n",
    "                        \"name\" : \"Muhammad Qasim\",\n",
    "                         \"qualification\" : \"MSDS\"}\n",
    "\n",
    "\n",
    "# for k,v in data.items(): \n",
    "#     print(k,v)\n",
    "\n",
    "\n",
    "{v:k for k,v in data.items()}"
   ]
  },
  {
   "cell_type": "code",
   "execution_count": 96,
   "metadata": {},
   "outputs": [
    {
     "name": "stdout",
     "output_type": "stream",
     "text": [
      "9 7\n"
     ]
    }
   ],
   "source": [
    "a : int = 7\n",
    "b : int = 9\n",
    "\n",
    "a , b = b , a #VALUE SHUFFLED\n",
    "print(a,b)"
   ]
  },
  {
   "cell_type": "code",
   "execution_count": 99,
   "metadata": {},
   "outputs": [
    {
     "name": "stdout",
     "output_type": "stream",
     "text": [
      "{}\n"
     ]
    },
    {
     "data": {
      "text/plain": [
       "{'id': None, 'name': None, 'fname': None, 'course': None}"
      ]
     },
     "execution_count": 99,
     "metadata": {},
     "output_type": "execute_result"
    }
   ],
   "source": [
    "Keys : list[str] = ['id','name','fname','course']\n",
    "data : dict[Key,Value] = {}\n",
    "print(data)\n",
    "\n",
    "data.fromkeys(Keys) #inline\n"
   ]
  },
  {
   "cell_type": "code",
   "execution_count": 2,
   "metadata": {},
   "outputs": [
    {
     "name": "stdout",
     "output_type": "stream",
     "text": [
      "{}\n"
     ]
    },
    {
     "ename": "",
     "evalue": "",
     "output_type": "error",
     "traceback": [
      "\u001b[1;31mThe Kernel crashed while executing code in the the current cell or a previous cell. Please review the code in the cell(s) to identify a possible cause of the failure. Click <a href='https://aka.ms/vscodeJupyterKernelCrash'>here</a> for more info. View Jupyter <a href='command:jupyter.viewOutput'>log</a> for further details."
     ]
    }
   ],
   "source": [
    "from typing import Dict,Union,Optional\n",
    "import pprint\n",
    "\n",
    "Key = Union[int,str] #create custom type\n",
    "Value = Union[int,str,list,dict,tuple,set]\n",
    "Keys : list[str] = ['id','name','fname','course']\n",
    "data : dict[Key,Value] = {}\n",
    "print(data)\n",
    "\n",
    "data = data.fromkeys(Keys) #inline"
   ]
  }
 ],
 "metadata": {
  "kernelspec": {
   "display_name": "fahadig",
   "language": "python",
   "name": "python3"
  },
  "language_info": {
   "codemirror_mode": {
    "name": "ipython",
    "version": 3
   },
   "file_extension": ".py",
   "mimetype": "text/x-python",
   "name": "python",
   "nbconvert_exporter": "python",
   "pygments_lexer": "ipython3",
   "version": "3.12.0"
  }
 },
 "nbformat": 4,
 "nbformat_minor": 2
}
