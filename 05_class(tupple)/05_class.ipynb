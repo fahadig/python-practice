{
 "cells": [
  {
   "cell_type": "code",
   "execution_count": 1,
   "metadata": {},
   "outputs": [
    {
     "name": "stdout",
     "output_type": "stream",
     "text": [
      "Fahad\n"
     ]
    }
   ],
   "source": [
    "print(\"Fahad\")"
   ]
  },
  {
   "cell_type": "markdown",
   "metadata": {},
   "source": [
    "# List\n",
    "*iteration operation with loop\n",
    "*apply any operation on element"
   ]
  },
  {
   "cell_type": "code",
   "execution_count": 9,
   "metadata": {},
   "outputs": [
    {
     "name": "stdout",
     "output_type": "stream",
     "text": [
      "Sir Zia\n",
      "Sir Qasim\n",
      "Sir Inam\n",
      "Dr Noman\n"
     ]
    }
   ],
   "source": [
    "names : list[str] = ['Sir Zia', 'Sir Qasim', 'Sir Inam', 'Dr Noman'] \n",
    "for name in names:\n",
    "    print(name)"
   ]
  },
  {
   "cell_type": "code",
   "execution_count": 11,
   "metadata": {},
   "outputs": [
    {
     "name": "stdout",
     "output_type": "stream",
     "text": [
      "Welcome dear Teacher Sir Zia\n",
      "Welcome dear Teacher Sir Qasim\n",
      "Welcome dear Teacher Sir Inam\n",
      "Welcome dear Teacher Dr Noman\n"
     ]
    }
   ],
   "source": [
    "for name in names:\n",
    "    print(f'Welcome dear Teacher {name.title()}')"
   ]
  },
  {
   "cell_type": "code",
   "execution_count": 13,
   "metadata": {},
   "outputs": [
    {
     "name": "stdout",
     "output_type": "stream",
     "text": [
      "Welcome dear Teacher Sir Zia\n",
      "Welcome Gen AI Team\n",
      "\n",
      "Welcome dear Teacher Sir Qasim\n",
      "Welcome Gen AI Team\n",
      "\n",
      "Welcome dear Teacher Sir Inam\n",
      "Welcome Gen AI Team\n",
      "\n",
      "Welcome dear Teacher Dr Noman\n",
      "Welcome Gen AI Team\n",
      "\n"
     ]
    }
   ],
   "source": [
    "for name in names:\n",
    "    print(f'Welcome dear Teacher {name.title()}')\n",
    "    print(\"Welcome Gen AI Team\\n\")"
   ]
  },
  {
   "cell_type": "code",
   "execution_count": 15,
   "metadata": {},
   "outputs": [
    {
     "name": "stdout",
     "output_type": "stream",
     "text": [
      "Welcome dear Teacher Sir Zia\n",
      "Welcome Gen AI Team\n",
      "\n",
      "Welcome dear Teacher Sir Qasim\n",
      "Welcome Gen AI Team\n",
      "\n",
      "Welcome dear Teacher Sir Inam\n",
      "Welcome Gen AI Team\n",
      "\n",
      "Welcome dear Teacher Dr Noman\n",
      "Welcome Gen AI Team\n",
      "\n",
      "Pakistan Zindabad\n"
     ]
    }
   ],
   "source": [
    "for name in names:\n",
    "    print(f'Welcome dear Teacher {name.title()}')\n",
    "    print(\"Welcome Gen AI Team\\n\")\n",
    "\n",
    "print(\"Pakistan Zindabad\") # when outside indentation -> when providing back space, then it will print Pakistan only once"
   ]
  },
  {
   "cell_type": "code",
   "execution_count": 17,
   "metadata": {},
   "outputs": [
    {
     "name": "stdout",
     "output_type": "stream",
     "text": [
      "Welcome dear Teacher Sir Zia\n",
      "Welcome Gen AI Team\n",
      "\n",
      "Pakistan Zindabad\n"
     ]
    }
   ],
   "source": [
    "for name in names[:2]:\n",
    "    print(f'Welcome dear Teacher {name.title()}')\n",
    "    print(\"Welcome Gen AI Team\\n\")\n",
    "\n",
    "print(\"Pakistan Zindabad\")"
   ]
  },
  {
   "cell_type": "code",
   "execution_count": 18,
   "metadata": {},
   "outputs": [
    {
     "name": "stdout",
     "output_type": "stream",
     "text": [
      "Welcome dear Teacher Sir Inam\n",
      "Welcome Gen AI Team\n",
      "\n",
      "Welcome dear Teacher Dr Noman\n",
      "Welcome Gen AI Team\n",
      "\n",
      "Pakistan Zindabad\n"
     ]
    }
   ],
   "source": [
    "for name in names[-2:]:\n",
    "    print(f'Welcome dear Teacher {name.title()}')\n",
    "    print(\"Welcome Gen AI Team\\n\")\n",
    "\n",
    "print(\"Pakistan Zindabad\")"
   ]
  },
  {
   "cell_type": "code",
   "execution_count": 21,
   "metadata": {},
   "outputs": [
    {
     "name": "stdout",
     "output_type": "stream",
     "text": [
      "Welcome dear Teacher Dr Noman\n",
      "Welcome Gen AI Team\n",
      "\n",
      "Welcome dear Teacher Sir Qasim\n",
      "Welcome Gen AI Team\n",
      "\n"
     ]
    }
   ],
   "source": [
    "names : list[str] = ['Sir Zia', 'Sir Qasim', 'Sir Inam', 'Dr Noman'] \n",
    "for name in names[::-2]:\n",
    "    print(f'Welcome dear Teacher {name.title()}')\n",
    "    print(\"Welcome Gen AI Team\\n\")"
   ]
  },
  {
   "cell_type": "markdown",
   "metadata": {},
   "source": [
    "# Slicing\n",
    "start : int = include\n",
    "end : int = n -1\n",
    "step : int = sequence"
   ]
  },
  {
   "cell_type": "code",
   "execution_count": 34,
   "metadata": {},
   "outputs": [
    {
     "name": "stdout",
     "output_type": "stream",
     "text": [
      "Welcome dear Teacher Sir Zia\n",
      "Welcome Gen AI Team\n",
      "\n",
      "Welcome dear Teacher Sir Qasim\n",
      "Welcome Gen AI Team\n",
      "\n",
      "Welcome dear Teacher Dr Noman\n",
      "Welcome Gen AI Team\n",
      "\n"
     ]
    }
   ],
   "source": [
    "names : list[str] = ['Sir Zia', 'Sir Qasim', 'Dr Noman'] \n",
    "for name in names[::]:\n",
    "    print(f'Welcome dear Teacher {name.title()}')\n",
    "    print(\"Welcome Gen AI Team\\n\")"
   ]
  },
  {
   "cell_type": "code",
   "execution_count": 36,
   "metadata": {},
   "outputs": [
    {
     "name": "stdout",
     "output_type": "stream",
     "text": [
      "qasim 123\n",
      "sirzia 456\n",
      "ikhlas 789\n"
     ]
    }
   ],
   "source": [
    "from typing import Tuple\n",
    "data_base : list[tuple[str,str]] = [(\"qasim\",123),\n",
    "                                     (\"sirzia\",456),\n",
    "                                     (\"ikhlas\",789)]\n",
    "\n",
    "input_user : str  = input(\"Enter user name\")\n",
    "input_password : str  = input(\"Enter password\")\n",
    "\n",
    "for row in data_base:\n",
    "    user, password = row\n",
    "    print(user, password)"
   ]
  },
  {
   "cell_type": "code",
   "execution_count": 43,
   "metadata": {},
   "outputs": [
    {
     "name": "stdout",
     "output_type": "stream",
     "text": [
      "invalid user\n"
     ]
    }
   ],
   "source": [
    "from typing import Tuple\n",
    "data_base : list[tuple[str,str]] = [(\"qasim\",'123'),\n",
    "                                     (\"sirzia\",'456'),\n",
    "                                     (\"ikhlas\",'789')\n",
    "                                     ]\n",
    "\n",
    "input_user : str  = input(\"Enter user name\")\n",
    "input_password : str  = input(\"Enter password\")\n",
    "\n",
    "for row in data_base:\n",
    "    user, password = row\n",
    "    if input_user == user and input_password == password:\n",
    "        print(\"Valid user\")\n",
    "        break\n",
    "else:\n",
    "    print(\"invalid user\")"
   ]
  },
  {
   "cell_type": "code",
   "execution_count": 53,
   "metadata": {},
   "outputs": [
    {
     "name": "stdout",
     "output_type": "stream",
     "text": [
      "Sir Zia\n",
      "Sir Qasim\n",
      "Dr Noman\n",
      "Pakistan\n"
     ]
    }
   ],
   "source": [
    "names : list[str] = ['Sir Zia', 'Sir Qasim', 'Dr Noman'] \n",
    "\n",
    "for name in names:\n",
    "    print(name[::])\n",
    "else:\n",
    "    print(\"Pakistan\")"
   ]
  },
  {
   "cell_type": "code",
   "execution_count": 60,
   "metadata": {},
   "outputs": [
    {
     "name": "stdout",
     "output_type": "stream",
     "text": [
      "Alice, great trick!\n",
      "David, great trick!\n",
      "Carolina, great trick!\n",
      "I can't wait to see your next trick, Carolina.\n",
      "\n"
     ]
    }
   ],
   "source": [
    "magicians = ['alice', 'david', 'carolina']\n",
    "\n",
    "for magician in magicians:\n",
    "    print(f\"{magician.title()}, great trick!\")\n",
    "print(f\"I can't wait to see your next trick, {magician.title()}.\\n\") #last variable of the iteration remains in the loop = Caroline"
   ]
  },
  {
   "cell_type": "markdown",
   "metadata": {},
   "source": [
    "# Numbers with loop\n",
    "# range(start,end,step)"
   ]
  },
  {
   "cell_type": "code",
   "execution_count": 62,
   "metadata": {},
   "outputs": [
    {
     "data": {
      "text/plain": [
       "[0, 1, 2, 3, 4, 5, 6, 7, 8, 9]"
      ]
     },
     "execution_count": 62,
     "metadata": {},
     "output_type": "execute_result"
    }
   ],
   "source": [
    "list(range(10)) #it works till 1 minus the range given, starting=0, ending = n-1"
   ]
  },
  {
   "cell_type": "code",
   "execution_count": 64,
   "metadata": {},
   "outputs": [
    {
     "data": {
      "text/plain": [
       "[2, 4, 6, 8, 10, 12, 14, 16, 18, 20]"
      ]
     },
     "execution_count": 64,
     "metadata": {},
     "output_type": "execute_result"
    }
   ],
   "source": [
    "list(range(2,21,2)) #2 starting point, till 21-1 =20, and last parameter 2 steps "
   ]
  },
  {
   "cell_type": "markdown",
   "metadata": {},
   "source": [
    "# ENUMERATE function put Index number as per element"
   ]
  },
  {
   "cell_type": "code",
   "execution_count": 66,
   "metadata": {},
   "outputs": [
    {
     "data": {
      "text/plain": [
       "[(0, 'alice'), (1, 'david'), (2, 'carolina')]"
      ]
     },
     "execution_count": 66,
     "metadata": {},
     "output_type": "execute_result"
    }
   ],
   "source": [
    "magicians = ['alice', 'david', 'carolina']\n",
    "list(enumerate(magicians))"
   ]
  },
  {
   "cell_type": "code",
   "execution_count": 67,
   "metadata": {},
   "outputs": [
    {
     "name": "stdout",
     "output_type": "stream",
     "text": [
      "0 alice\n",
      "1 david\n",
      "2 carolina\n"
     ]
    }
   ],
   "source": [
    "magicians = ['alice', 'david', 'carolina']\n",
    "for index,name in enumerate(magicians):\n",
    "    print(index,name)"
   ]
  },
  {
   "cell_type": "code",
   "execution_count": 68,
   "metadata": {},
   "outputs": [
    {
     "name": "stdout",
     "output_type": "stream",
     "text": [
      "2 x 1 = 2\n",
      "2 x 2 = 4\n",
      "2 x 3 = 6\n",
      "2 x 4 = 8\n",
      "2 x 5 = 10\n",
      "2 x 6 = 12\n",
      "2 x 7 = 14\n",
      "2 x 8 = 16\n",
      "2 x 9 = 18\n",
      "2 x 10 = 20\n"
     ]
    }
   ],
   "source": [
    "for n in range(1,11):\n",
    "    print(f\"{2} x {n} = {2*n}\")"
   ]
  },
  {
   "cell_type": "code",
   "execution_count": 69,
   "metadata": {},
   "outputs": [
    {
     "ename": "IndentationError",
     "evalue": "expected an indented block after 'for' statement on line 2 (2322708414.py, line 3)",
     "output_type": "error",
     "traceback": [
      "\u001b[1;36m  Cell \u001b[1;32mIn[69], line 3\u001b[1;36m\u001b[0m\n\u001b[1;33m    1 square = value ** 2\u001b[0m\n\u001b[1;37m    ^\u001b[0m\n\u001b[1;31mIndentationError\u001b[0m\u001b[1;31m:\u001b[0m expected an indented block after 'for' statement on line 2\n"
     ]
    }
   ],
   "source": [
    "squares = []\n",
    "for value in range(1, 11):\n",
    "square = value ** 2\n",
    "squares.append(square)"
   ]
  },
  {
   "cell_type": "markdown",
   "metadata": {},
   "source": [
    "# List comprehensive (instead of 05 line code above, it will simplify)\n",
    "for item in items_list:\n",
    "\n",
    "loop_body\n",
    "\n",
    "#instead we will bring loop body in the start, then it will become list comprehensive\n",
    "# --> [loop_body for item in items_list]"
   ]
  },
  {
   "cell_type": "code",
   "execution_count": 71,
   "metadata": {},
   "outputs": [
    {
     "name": "stdout",
     "output_type": "stream",
     "text": [
      "1\n",
      "4\n",
      "9\n",
      "16\n",
      "25\n",
      "36\n",
      "49\n",
      "64\n",
      "81\n",
      "100\n"
     ]
    }
   ],
   "source": [
    "for i in range(1,11):\n",
    "    print(i ** 2)"
   ]
  },
  {
   "cell_type": "code",
   "execution_count": 72,
   "metadata": {},
   "outputs": [
    {
     "data": {
      "text/plain": [
       "[1, 4, 9, 16, 25, 36, 49, 64, 81, 100]"
      ]
     },
     "execution_count": 72,
     "metadata": {},
     "output_type": "execute_result"
    }
   ],
   "source": [
    "[i ** 2 for i in range(1,11)]"
   ]
  },
  {
   "cell_type": "markdown",
   "metadata": {},
   "source": [
    "# Tuple --> Constant = Immutable no change"
   ]
  },
  {
   "cell_type": "code",
   "execution_count": 74,
   "metadata": {},
   "outputs": [
    {
     "name": "stdout",
     "output_type": "stream",
     "text": [
      "('A', [1, 2, 3], True)\n"
     ]
    }
   ],
   "source": [
    "from typing import Any\n",
    "data : tuple[Any] = (\"A\",[1,2,3], True)\n",
    "print(data)"
   ]
  },
  {
   "cell_type": "code",
   "execution_count": 2,
   "metadata": {},
   "outputs": [
    {
     "name": "stdout",
     "output_type": "stream",
     "text": [
      "('A', [1, 2, 3, 30], True)\n"
     ]
    }
   ],
   "source": [
    "# we can reassign the tupple but can't change it\n",
    "from typing import Any\n",
    "data : tuple[Any] = (\"A\",[1,2,3], True)\n",
    "data[1].append(30)\n",
    "print(data)"
   ]
  },
  {
   "cell_type": "code",
   "execution_count": null,
   "metadata": {},
   "outputs": [],
   "source": []
  }
 ],
 "metadata": {
  "kernelspec": {
   "display_name": "fahadig",
   "language": "python",
   "name": "python3"
  },
  "language_info": {
   "codemirror_mode": {
    "name": "ipython",
    "version": 3
   },
   "file_extension": ".py",
   "mimetype": "text/x-python",
   "name": "python",
   "nbconvert_exporter": "python",
   "pygments_lexer": "ipython3",
   "version": "3.12.0"
  }
 },
 "nbformat": 4,
 "nbformat_minor": 2
}
