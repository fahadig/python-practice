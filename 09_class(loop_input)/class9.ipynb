{
 "cells": [
  {
   "cell_type": "code",
   "execution_count": 1,
   "metadata": {},
   "outputs": [
    {
     "name": "stdout",
     "output_type": "stream",
     "text": [
      "Fahad\n"
     ]
    }
   ],
   "source": [
    "print(\"Fahad\")"
   ]
  },
  {
   "cell_type": "markdown",
   "metadata": {},
   "source": [
    "# Loop and input from user\n",
    "* while\n",
    "* for\n",
    "* controls\n",
    "    * break\n",
    "    * continue\n",
    "    * pass\n",
    "* input with input function\n",
    "* input from console\n",
    "\n",
    "# Loop working on iterative data types\n",
    "\n",
    "* list\n",
    "* dictionary\n",
    "* tuple\n",
    "* string\n",
    "\n"
   ]
  },
  {
   "cell_type": "code",
   "execution_count": 6,
   "metadata": {},
   "outputs": [
    {
     "name": "stdout",
     "output_type": "stream",
     "text": [
      "[1, 2, 3, 4, 5, 6]\n"
     ]
    }
   ],
   "source": [
    "l1 : list = [1,2,3,4,5,6]\n",
    "print(l1)\n"
   ]
  },
  {
   "cell_type": "code",
   "execution_count": 8,
   "metadata": {},
   "outputs": [
    {
     "name": "stdout",
     "output_type": "stream",
     "text": [
      "1\n",
      "2\n",
      "3\n",
      "4\n",
      "5\n",
      "6\n"
     ]
    }
   ],
   "source": [
    "l1 : list = [1,2,3,4,5,6]\n",
    "\n",
    "\n",
    "for n in l1:\n",
    "    print(n)"
   ]
  },
  {
   "cell_type": "code",
   "execution_count": 9,
   "metadata": {},
   "outputs": [
    {
     "name": "stdout",
     "output_type": "stream",
     "text": [
      "current number :1\n",
      "current number :2\n",
      "current number :3\n",
      "current number :4\n",
      "current number :5\n",
      "current number :6\n"
     ]
    }
   ],
   "source": [
    "l1 : list = [1,2,3,4,5,6]\n",
    "\n",
    "\n",
    "for n in l1:\n",
    "    print( f\"current number :{n}\")"
   ]
  },
  {
   "cell_type": "code",
   "execution_count": 10,
   "metadata": {},
   "outputs": [
    {
     "name": "stdout",
     "output_type": "stream",
     "text": [
      "current number :1\n",
      "current number :2\n",
      "current number :3\n",
      "current number :4\n",
      "current number :5\n",
      "current number :6\n"
     ]
    }
   ],
   "source": [
    "l1 : tuple = [1,2,3,4,5,6]\n",
    "\n",
    "\n",
    "for n in l1:\n",
    "    print( f\"current number :{n}\")  "
   ]
  },
  {
   "cell_type": "code",
   "execution_count": 13,
   "metadata": {},
   "outputs": [
    {
     "name": "stdout",
     "output_type": "stream",
     "text": [
      "current character :P\n",
      "current character :a\n",
      "current character :k\n",
      "current character :i\n",
      "current character :s\n",
      "current character :t\n",
      "current character :a\n",
      "current character :n\n"
     ]
    }
   ],
   "source": [
    "l1 : str = \"Pakistan\"\n",
    "\n",
    "\n",
    "for c in l1:\n",
    "    print( f\"current character :{c}\")  "
   ]
  },
  {
   "cell_type": "code",
   "execution_count": 19,
   "metadata": {},
   "outputs": [
    {
     "name": "stdout",
     "output_type": "stream",
     "text": [
      " name = M.Qasim\n",
      " fname = M.Aslam\n"
     ]
    }
   ],
   "source": [
    "l1 : dict[str,str] = {\"name\": \"M.Qasim\",\"fname\":\"M.Aslam\"}\n",
    "\n",
    "\n",
    "for k in l1:\n",
    "    print( f\" {k} = {l1[k]}\")  "
   ]
  },
  {
   "cell_type": "code",
   "execution_count": 5,
   "metadata": {},
   "outputs": [
    {
     "name": "stdout",
     "output_type": "stream",
     "text": [
      "set value : 1\n",
      "set value : 2\n",
      "set value : 3\n",
      "set value : 4\n"
     ]
    }
   ],
   "source": [
    "l1 : list[set[int]] = list({1,2,3,4,1,1,3,3,2,2,4,4})\n",
    "\n",
    "for k in l1:\n",
    "    print(f\"set value : {k}\")"
   ]
  },
  {
   "cell_type": "code",
   "execution_count": 4,
   "metadata": {},
   "outputs": [
    {
     "name": "stdout",
     "output_type": "stream",
     "text": [
      "set value 1\n",
      "set value 2\n",
      "set value 3\n",
      "set value 4\n"
     ]
    }
   ],
   "source": [
    "l1 : list[set[int]] = list({1,2,3,4,1,1,3,3,2,2,4,4})\n",
    "\n",
    "for k in l1:\n",
    "    print(f\"set value {k}\")"
   ]
  },
  {
   "cell_type": "markdown",
   "metadata": {},
   "source": [
    "# input from user\n",
    "* input function \n",
    "    *default type = string \n",
    "* sys.argv (for console input in abc.py file)\n",
    "    * default type = str"
   ]
  },
  {
   "cell_type": "code",
   "execution_count": null,
   "metadata": {},
   "outputs": [],
   "source": []
  },
  {
   "cell_type": "code",
   "execution_count": 8,
   "metadata": {},
   "outputs": [
    {
     "name": "stdout",
     "output_type": "stream",
     "text": [
      "<class 'str'>\n",
      "Welcome dear User Fahad!\n"
     ]
    }
   ],
   "source": [
    "name : str = input(\"What is your name? : \\t \")\n",
    "\n",
    "print(type(name))\n",
    "\n",
    "print(f\"Welcome dear User {name}!\")"
   ]
  },
  {
   "cell_type": "markdown",
   "metadata": {},
   "source": [
    "# While logic\" # True/False\n",
    "    loop_body # will repeat till True is found "
   ]
  },
  {
   "cell_type": "code",
   "execution_count": 9,
   "metadata": {},
   "outputs": [
    {
     "name": "stdout",
     "output_type": "stream",
     "text": [
      "current number is :0\n",
      "current number is :1\n",
      "current number is :2\n",
      "current number is :3\n",
      "current number is :4\n",
      "current number is :5\n",
      "current number is :6\n",
      "current number is :7\n",
      "current number is :8\n",
      "current number is :9\n"
     ]
    }
   ],
   "source": [
    "flag : bool = True # Flag\n",
    "\n",
    "current_number : int = 0\n",
    "\n",
    "while flag:\n",
    "    print(f\"current number is :{current_number}\")\n",
    "    current_number +=1\n",
    "\n",
    "    if current_number == 10: #Flag false at some point \n",
    "        break"
   ]
  },
  {
   "cell_type": "code",
   "execution_count": 13,
   "metadata": {},
   "outputs": [
    {
     "name": "stdout",
     "output_type": "stream",
     "text": [
      "current index is : 0 and list value is 100 \n",
      "current index is : 1 and list value is 200 \n",
      "current index is : 2 and list value is 300 \n"
     ]
    }
   ],
   "source": [
    "l1 : list[int] = [100,200,300]\n",
    "index : int = 0\n",
    "\n",
    "while index < len(l1):\n",
    "    print(f\"current index is : {index} and list value is {l1[index]} \")\n",
    "    index +=1\n"
   ]
  },
  {
   "cell_type": "code",
   "execution_count": 1,
   "metadata": {},
   "outputs": [
    {
     "name": "stdout",
     "output_type": "stream",
     "text": [
      "Type exit to stop\n",
      "Type exit to stop\n",
      "Type exit to stop\n",
      "Type exit to stop\n"
     ]
    },
    {
     "data": {
      "text/plain": [
       "[{'name': 'F1', 'edu': 'A1'},\n",
       " {'name': 'F2', 'edu': 'A2'},\n",
       " {'name': 'F3', 'edu': 'A3'}]"
      ]
     },
     "metadata": {},
     "output_type": "display_data"
    }
   ],
   "source": [
    "data : list[dict[str,str]] = []\n",
    "\n",
    "flag : bool = True\n",
    "\n",
    "while flag:\n",
    "    print(\"Type exit to stop\")\n",
    "    name : str = input(\"Input your name \\t\")\n",
    "    edu : str = input(\"Input education\")\n",
    "\n",
    "    if name in ['exit'] or edu in ['exit']:\n",
    "        flag=False\n",
    "        break\n",
    "    data.append({'name':name,'edu':edu})\n",
    "\n",
    "display(data)\n"
   ]
  },
  {
   "cell_type": "code",
   "execution_count": 3,
   "metadata": {},
   "outputs": [
    {
     "name": "stdout",
     "output_type": "stream",
     "text": [
      "type exit to stop\n",
      "type exit to stop\n",
      "type exit to stop\n"
     ]
    },
    {
     "data": {
      "text/plain": [
       "[{'name': 'A1', 'edu': 'B1'}, {'name': 'A2', 'edu': 'B2'}]"
      ]
     },
     "metadata": {},
     "output_type": "display_data"
    }
   ],
   "source": [
    "data : dict[list[str,str]] = []\n",
    "\n",
    "flag : bool = True\n",
    "\n",
    "while flag:\n",
    "    print(\"type exit to stop\")\n",
    "    name : str = input(\"Enter name\")\n",
    "    edu : str = input(\"Enter edu\")\n",
    "\n",
    "    if name in [\"exit\"] or edu in [\"exit\"]:\n",
    "        flag=False\n",
    "        break\n",
    "\n",
    "    data.append({\"name\":name,\"edu\":edu})\n",
    "\n",
    "display(data)"
   ]
  },
  {
   "cell_type": "markdown",
   "metadata": {},
   "source": [
    "# Controls\n",
    "* break\n",
    "* continue\n",
    "    *skip\n",
    "* pass"
   ]
  },
  {
   "cell_type": "code",
   "execution_count": 4,
   "metadata": {},
   "outputs": [
    {
     "name": "stdout",
     "output_type": "stream",
     "text": [
      "1\n",
      "2\n",
      "3\n",
      "4\n",
      "5\n"
     ]
    }
   ],
   "source": [
    "for i in range(1,11):\n",
    "    print(i)\n",
    "    if i == 5:\n",
    "        break"
   ]
  },
  {
   "cell_type": "code",
   "execution_count": 6,
   "metadata": {},
   "outputs": [
    {
     "name": "stdout",
     "output_type": "stream",
     "text": [
      "2 x 1 = 2\n"
     ]
    }
   ],
   "source": [
    "for i in range(1,11):\n",
    "    print(f\"2 x {i} = {i*2}\")\n",
    "    break"
   ]
  },
  {
   "cell_type": "code",
   "execution_count": 10,
   "metadata": {},
   "outputs": [
    {
     "name": "stdout",
     "output_type": "stream",
     "text": [
      "2 x 1 = 2\n",
      "2 x 2 = 4\n",
      "2 x 3 = 6\n",
      "2 x 4 = 8\n",
      "2 x 5 = 10\n",
      "2 x 6 = 12\n",
      "2 x 7 = 14\n",
      "2 x 8 = 16\n",
      "2 x 9 = 18\n",
      "2 x 10 = 20\n",
      "2 x 11 = 22\n",
      "2 x 12 = 24\n",
      "2 x 13 = 26\n",
      "2 x 14 = 28\n",
      "2 x 15 = 30\n",
      "2 x 16 = 32\n",
      "2 x 17 = 34\n",
      "2 x 18 = 36\n",
      "2 x 19 = 38\n",
      "2 x 20 = 40\n"
     ]
    }
   ],
   "source": [
    "for i in range(1,21):\n",
    "    print(f\"2 x {i} = {i*2}\")"
   ]
  },
  {
   "cell_type": "code",
   "execution_count": 13,
   "metadata": {},
   "outputs": [
    {
     "data": {
      "text/plain": [
       "[2, 4, 6, 12, 14, 16]"
      ]
     },
     "execution_count": 13,
     "metadata": {},
     "output_type": "execute_result"
    }
   ],
   "source": [
    "data : list[int] = [1,2,3,4,5,6,11,12,13,14,15,16]\n",
    "\n",
    "[i for i in data if i%2==0]"
   ]
  },
  {
   "cell_type": "code",
   "execution_count": 1,
   "metadata": {},
   "outputs": [
    {
     "data": {
      "text/plain": [
       "[1, 3, 5, 11, 13, 15]"
      ]
     },
     "execution_count": 1,
     "metadata": {},
     "output_type": "execute_result"
    }
   ],
   "source": [
    "data :  list[int] = [1,2,3,4,5,6,11,12,13,14,15,16]\n",
    "\n",
    "[i for i in data if i%2!=0] #Odd numbers divide by 0, the remainder is never 0"
   ]
  },
  {
   "cell_type": "code",
   "execution_count": 21,
   "metadata": {},
   "outputs": [
    {
     "name": "stdout",
     "output_type": "stream",
     "text": [
      "Verifying user: Candace\n",
      "Verifying user: Brian\n",
      "Verifying user: Alice\n",
      "\n",
      "The following users have been confirmed:\n",
      "Candace\n",
      "Brian\n",
      "Alice\n"
     ]
    }
   ],
   "source": [
    "# Start with users that need to be verified,\n",
    "# and an empty list to hold confirmed users.\n",
    "unconfirmed_users = ['alice', 'brian', 'candace']\n",
    "confirmed_users = []\n",
    "# Verify each user until there are no more unconfirmed users.\n",
    "# Move each verified user into the list of confirmed users.\n",
    "while unconfirmed_users:\n",
    "    current_user = unconfirmed_users.pop()\n",
    "    print(f\"Verifying user: {current_user.title()}\")\n",
    "    confirmed_users.append(current_user)\n",
    "# Display all confirmed users.\n",
    "print(\"\\nThe following users have been confirmed:\")\n",
    "for confirmed_user in confirmed_users:\n",
    "    print(confirmed_user.title())\n"
   ]
  }
 ],
 "metadata": {
  "kernelspec": {
   "display_name": "fahadig",
   "language": "python",
   "name": "python3"
  },
  "language_info": {
   "codemirror_mode": {
    "name": "ipython",
    "version": 3
   },
   "file_extension": ".py",
   "mimetype": "text/x-python",
   "name": "python",
   "nbconvert_exporter": "python",
   "pygments_lexer": "ipython3",
   "version": "3.12.0"
  }
 },
 "nbformat": 4,
 "nbformat_minor": 2
}
