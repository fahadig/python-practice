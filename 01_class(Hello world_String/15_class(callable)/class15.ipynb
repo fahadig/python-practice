{
 "cells": [
  {
   "cell_type": "code",
   "execution_count": 1,
   "metadata": {},
   "outputs": [
    {
     "name": "stdout",
     "output_type": "stream",
     "text": [
      "Bird is eating bread\n",
      "Animal is eating grass\n"
     ]
    }
   ],
   "source": [
    "class Animal():\n",
    "    def eating(self, food : str)->None:\n",
    "        print(f\"Animal is eating {food}\")\n",
    "\n",
    "class Bird(Animal):\n",
    "    def eating(self, food: str) -> None: #overriding same eating is added to both classes\n",
    "        print(f\"Bird is eating {food}\")\n",
    "\n",
    "bird : Bird = Bird()\n",
    "bird.eating(\"bread\")\n",
    "\n",
    "animal : Animal = Animal()\n",
    "animal.eating(\"grass\")\n",
    "\n"
   ]
  },
  {
   "cell_type": "code",
   "execution_count": 3,
   "metadata": {},
   "outputs": [
    {
     "data": {
      "text/plain": [
       "True"
      ]
     },
     "execution_count": 3,
     "metadata": {},
     "output_type": "execute_result"
    }
   ],
   "source": [
    "from typing import Any\n",
    "\n",
    "\n",
    "class NonCallable:\n",
    "    def __call__(self):\n",
    "        raise TypeError (\"not really callable\")\n",
    "    \n",
    "instance : NonCallable = NonCallable()\n",
    "callable(instance)\n",
    "\n"
   ]
  },
  {
   "cell_type": "code",
   "execution_count": 3,
   "metadata": {},
   "outputs": [
    {
     "ename": "NameError",
     "evalue": "name 'instance' is not defined",
     "output_type": "error",
     "traceback": [
      "\u001b[1;31m---------------------------------------------------------------------------\u001b[0m",
      "\u001b[1;31mNameError\u001b[0m                                 Traceback (most recent call last)",
      "Cell \u001b[1;32mIn[3], line 1\u001b[0m\n\u001b[1;32m----> 1\u001b[0m \u001b[43minstance\u001b[49m()\n",
      "\u001b[1;31mNameError\u001b[0m: name 'instance' is not defined"
     ]
    }
   ],
   "source": [
    "instance()"
   ]
  },
  {
   "cell_type": "code",
   "execution_count": 4,
   "metadata": {},
   "outputs": [],
   "source": [
    "from piaic.genai import ExecutionTimer\n",
    "        "
   ]
  },
  {
   "cell_type": "code",
   "execution_count": 5,
   "metadata": {},
   "outputs": [
    {
     "name": "stdout",
     "output_type": "stream",
     "text": [
      "square_numbers() took 0.0047 ms\n"
     ]
    },
    {
     "data": {
      "text/plain": [
       "[0, 1, 4, 9, 16, 25, 36, 49, 64, 81]"
      ]
     },
     "execution_count": 5,
     "metadata": {},
     "output_type": "execute_result"
    }
   ],
   "source": [
    "@ExecutionTimer\n",
    "\n",
    "def square_numbers(numbers):\n",
    "    return [number ** 2 for number in numbers]\n",
    "\n",
    "square_numbers(list(range(10)))\n"
   ]
  },
  {
   "cell_type": "markdown",
   "metadata": {},
   "source": [
    "## How to create python packages for public users\n",
    "https://www.turing.com/kb/how-to-create-pypi-packages"
   ]
  },
  {
   "cell_type": "markdown",
   "metadata": {},
   "source": [
    "https://www.tutorialsteacher.com/python/public-private-protected-modifiers\n",
    "\n",
    "Protected = Making attributes \n",
    "\n",
    "\n",
    "Private = Secured, encapsulation comes from private secure, to access them and to update them, you can access \n",
    "through a class and methods called Setter and Getter --> __private__"
   ]
  },
  {
   "cell_type": "code",
   "execution_count": 11,
   "metadata": {},
   "outputs": [
    {
     "name": "stdout",
     "output_type": "stream",
     "text": [
      "0800\n"
     ]
    }
   ],
   "source": [
    "class Piaic():\n",
    "    def __init__(self) -> None:\n",
    "        # self.name --> public\n",
    "        self.piaic_helpline : str = \"0800\"  \n",
    "    \n",
    "        # self._name --> protected\n",
    "        self._total_expense : int = \"600000\"\n",
    "\n",
    "        # self.__name --> private\n",
    "        self.__test_annoucement : str = \"5 Nov 2023\"\n",
    "\n",
    "\n",
    "fahad : Piaic = Piaic()\n",
    "\n",
    "print(fahad.piaic_helpline) # public info \n",
    "\n"
   ]
  },
  {
   "cell_type": "code",
   "execution_count": 13,
   "metadata": {},
   "outputs": [
    {
     "name": "stdout",
     "output_type": "stream",
     "text": [
      "03233333333\n"
     ]
    }
   ],
   "source": [
    "fahad.piaic_helpline = \"03233333333\"  # public info changed\n",
    "print(fahad.piaic_helpline) \n"
   ]
  },
  {
   "cell_type": "code",
   "execution_count": 15,
   "metadata": {},
   "outputs": [
    {
     "ename": "AttributeError",
     "evalue": "'Piaic' object has no attribute '__test_annoucement'",
     "output_type": "error",
     "traceback": [
      "\u001b[1;31m---------------------------------------------------------------------------\u001b[0m",
      "\u001b[1;31mAttributeError\u001b[0m                            Traceback (most recent call last)",
      "Cell \u001b[1;32mIn[15], line 1\u001b[0m\n\u001b[1;32m----> 1\u001b[0m \u001b[43mfahad\u001b[49m\u001b[38;5;241;43m.\u001b[39;49m\u001b[43m__test_annoucement\u001b[49m \u001b[38;5;66;03m# due to private key, it cant be accessed\u001b[39;00m\n",
      "\u001b[1;31mAttributeError\u001b[0m: 'Piaic' object has no attribute '__test_annoucement'"
     ]
    }
   ],
   "source": [
    "fahad.__test_annoucement # due to private key, it cant be accessed\n"
   ]
  },
  {
   "cell_type": "code",
   "execution_count": 20,
   "metadata": {},
   "outputs": [
    {
     "data": {
      "text/plain": [
       "'5 Nov 2023'"
      ]
     },
     "execution_count": 20,
     "metadata": {},
     "output_type": "execute_result"
    }
   ],
   "source": [
    "fahad._Piaic__test_annoucement # -> private key access"
   ]
  },
  {
   "cell_type": "code",
   "execution_count": 8,
   "metadata": {},
   "outputs": [],
   "source": [
    "class StudentLogin():\n",
    "    def __init__(self) -> None:\n",
    "        self.__username : str = \"Admin\" #private\n",
    "        self.__password : str = \"Admin\" #private\n",
    "\n",
    "    def __dbconnectivity(self, user : str, password : str):\n",
    "        print(\"Successfully connected\")\n",
    "        if user == self.__username and password == self.__password:\n",
    "            return \"Valid User\"\n",
    "        else:\n",
    "            return \"Invalid User\"\n",
    "    \n",
    "    def update_password(self, password:str):\n",
    "        self.__password = password\n",
    "\n",
    "    def student_login(self,user:str, pass1:str):\n",
    "        message : str = self.__dbconnectivity(user,pass1)\n",
    "        print(message)\n",
    "\n",
    "    def display_information(self):\n",
    "        print(f\"Hi dear {self.__username} and password {self.__password}\")\n",
    "\n",
    "\n",
    "qasim : StudentLogin = StudentLogin()\n",
    "    "
   ]
  },
  {
   "cell_type": "code",
   "execution_count": 9,
   "metadata": {},
   "outputs": [
    {
     "ename": "AttributeError",
     "evalue": "'StudentLogin' object has no attribute '__password'",
     "output_type": "error",
     "traceback": [
      "\u001b[1;31m---------------------------------------------------------------------------\u001b[0m",
      "\u001b[1;31mAttributeError\u001b[0m                            Traceback (most recent call last)",
      "Cell \u001b[1;32mIn[9], line 1\u001b[0m\n\u001b[1;32m----> 1\u001b[0m \u001b[43mqasim\u001b[49m\u001b[38;5;241;43m.\u001b[39;49m\u001b[43m__password\u001b[49m\n",
      "\u001b[1;31mAttributeError\u001b[0m: 'StudentLogin' object has no attribute '__password'"
     ]
    }
   ],
   "source": [
    "qasim.__password"
   ]
  },
  {
   "cell_type": "code",
   "execution_count": 10,
   "metadata": {},
   "outputs": [
    {
     "name": "stdout",
     "output_type": "stream",
     "text": [
      "Hi dear Admin and password Admin\n"
     ]
    }
   ],
   "source": [
    "qasim.display_information()"
   ]
  },
  {
   "cell_type": "code",
   "execution_count": 17,
   "metadata": {},
   "outputs": [],
   "source": [
    "qasim.update_password(\"qasim123\")"
   ]
  },
  {
   "cell_type": "code",
   "execution_count": 18,
   "metadata": {},
   "outputs": [
    {
     "name": "stdout",
     "output_type": "stream",
     "text": [
      "Hi dear Admin and password qasim123\n"
     ]
    }
   ],
   "source": [
    "qasim.display_information()"
   ]
  },
  {
   "cell_type": "code",
   "execution_count": 16,
   "metadata": {},
   "outputs": [
    {
     "name": "stdout",
     "output_type": "stream",
     "text": [
      "Successfully connected\n",
      "Valid User\n"
     ]
    }
   ],
   "source": [
    "qasim.student_login(\"Admin\",\"Admin\")\n"
   ]
  },
  {
   "cell_type": "code",
   "execution_count": 20,
   "metadata": {},
   "outputs": [
    {
     "name": "stdout",
     "output_type": "stream",
     "text": [
      "<__main__.Teacher object at 0x00000219E5142A20>\n"
     ]
    }
   ],
   "source": [
    "class Teacher():\n",
    "    def __init__(self,name) -> None:\n",
    "        self.name : str = name\n",
    "\n",
    "sir_zia = Teacher = Teacher(\"sir zia\")\n",
    "\n",
    "print(sir_zia)"
   ]
  },
  {
   "cell_type": "code",
   "execution_count": 21,
   "metadata": {},
   "outputs": [
    {
     "name": "stdout",
     "output_type": "stream",
     "text": [
      "Teacher name is sir zia\n"
     ]
    }
   ],
   "source": [
    "class Teacher():\n",
    "    def __init__(self,name) -> None:\n",
    "        self.name : str = name\n",
    "\n",
    "    def __str__(self) -> str:\n",
    "        return f\"Teacher name is {self.name}\"\n",
    "    \n",
    "sir_zia = Teacher = Teacher(\"sir zia\")\n",
    "\n",
    "print(sir_zia)\n"
   ]
  },
  {
   "cell_type": "markdown",
   "metadata": {},
   "source": [
    "## Abstract Class\n",
    "\n",
    "An object cannot be created directly\n",
    "\n",
    "ABC = Abstract based classes\n"
   ]
  },
  {
   "cell_type": "code",
   "execution_count": null,
   "metadata": {},
   "outputs": [],
   "source": [
    "from abc import ABC, abstractmethod\n",
    "\n",
    "class Animal(ABC)"
   ]
  },
  {
   "cell_type": "markdown",
   "metadata": {},
   "source": [
    "## Duck Typing \n",
    "https://ioflood.com/blog/duck-typing/"
   ]
  }
 ],
 "metadata": {
  "kernelspec": {
   "display_name": "fahadig",
   "language": "python",
   "name": "python3"
  },
  "language_info": {
   "codemirror_mode": {
    "name": "ipython",
    "version": 3
   },
   "file_extension": ".py",
   "mimetype": "text/x-python",
   "name": "python",
   "nbconvert_exporter": "python",
   "pygments_lexer": "ipython3",
   "version": "3.12.0"
  }
 },
 "nbformat": 4,
 "nbformat_minor": 2
}
