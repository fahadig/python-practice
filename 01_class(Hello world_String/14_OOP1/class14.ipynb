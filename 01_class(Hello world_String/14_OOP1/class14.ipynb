{
 "cells": [
  {
   "cell_type": "code",
   "execution_count": 1,
   "metadata": {},
   "outputs": [
    {
     "name": "stdout",
     "output_type": "stream",
     "text": [
      "Animation Artist\n",
      "['Python']\n"
     ]
    }
   ],
   "source": [
    "class Employee():\n",
    "    def __init__(self, name : str) -> None:\n",
    "        self.name : str = name\n",
    "        self.education : str = \"\"\n",
    "        self.department : str = \"\"\n",
    "\n",
    "class Designer(Employee):\n",
    "    def __init__(self, title : str, name : str) -> None:\n",
    "        super().__init__(name)\n",
    "        self.title : str = title\n",
    "\n",
    "class Developer(Employee):\n",
    "    def __init__(self, title:str, name : str) -> None:\n",
    "        super().__init__(name)\n",
    "        self.title : str = title\n",
    "        self.programing_skills : list[str] = [\"Python\"]\n",
    "\n",
    "\n",
    "designer1 : Designer = Designer(\"Animation Artist\",\"Asif Khan\")\n",
    "\n",
    "Dev1 : Developer = Developer(\"GerAI Eng\", \"Fahad\")\n",
    "\n",
    "print(designer1.title)\n",
    "\n",
    "print(Dev1.programing_skills)\n"
   ]
  },
  {
   "cell_type": "markdown",
   "metadata": {},
   "source": [
    "## Multiple Inheritence"
   ]
  },
  {
   "cell_type": "code",
   "execution_count": 3,
   "metadata": {},
   "outputs": [
    {
     "name": "stdout",
     "output_type": "stream",
     "text": [
      "object height6 feet\n",
      "object eye colorblue\n",
      "Mother speaking function Pakistan\n"
     ]
    }
   ],
   "source": [
    "class Mother:\n",
    "    def __init__(self, name : str) -> None:\n",
    "        self.name : str = name\n",
    "        self.eye_color : str = \"blue\"\n",
    "\n",
    "    def speaking(self, words : str)->str:\n",
    "        return f\"Mother speaking function {words}\"\n",
    "    \n",
    "class Father:\n",
    "    def __init__(self, name : str) -> None:\n",
    "        self.name : str = name\n",
    "        self.height : str = \"6 feet\"\n",
    "        \n",
    "\n",
    "class Child(Mother,Father):\n",
    "    def __init__(self,mother_name: str, father_name:str, child_name : str)-> None:\n",
    "        Mother.__init__(self,mother_name)\n",
    "        Father.__init__(self,father_name)\n",
    "        self.child_name : str = child_name\n",
    "\n",
    "qasim : Child = Child(\"Naseem\",\"M.Aslam\",\"M.Qasim\")\n",
    "\n",
    "print(f\"object height{qasim.height}\")\n",
    "print(f\"object eye color{qasim.eye_color}\")\n",
    "print(qasim.speaking(f\"Pakistan\"))"
   ]
  },
  {
   "cell_type": "code",
   "execution_count": 4,
   "metadata": {},
   "outputs": [
    {
     "name": "stdout",
     "output_type": "stream",
     "text": [
      "object height6 feet\n",
      "object eye colorblue\n",
      "Father speaking function Pakistan\n"
     ]
    }
   ],
   "source": [
    "class Mother:\n",
    "    def __init__(self, name : str) -> None:\n",
    "        self.name : str = name\n",
    "        self.eye_color : str = \"blue\"\n",
    "\n",
    "    def speaking(self, words : str)->str:\n",
    "        return f\"Mother speaking function {words}\"\n",
    "    \n",
    "class Father:\n",
    "    def __init__(self, name : str) -> None:\n",
    "        self.name : str = name\n",
    "        self.height : str = \"6 feet\"\n",
    "        \n",
    "    def speaking(self, words : str)->str:\n",
    "        return f\"Father speaking function {words}\"\n",
    "\n",
    "class Child(Father,Mother):\n",
    "    def __init__(self,mother_name: str, father_name:str, child_name : str)-> None:\n",
    "        Mother.__init__(self,mother_name)\n",
    "        Father.__init__(self,father_name)\n",
    "        self.child_name : str = child_name\n",
    "\n",
    "qasim : Child = Child(\"Naseem\",\"M.Aslam\",\"M.Qasim\")\n",
    "\n",
    "print(f\"object height{qasim.height}\")\n",
    "print(f\"object eye color{qasim.eye_color}\")\n",
    "print(qasim.speaking(f\"Pakistan\"))"
   ]
  },
  {
   "cell_type": "markdown",
   "metadata": {},
   "source": [
    "## Polymorphism\n",
    "* Overloading\n",
    "* Over-riding"
   ]
  },
  {
   "cell_type": "code",
   "execution_count": 2,
   "metadata": {},
   "outputs": [
    {
     "name": "stdout",
     "output_type": "stream",
     "text": [
      "Bird is eating bread\n",
      "Animal is eating grass\n"
     ]
    }
   ],
   "source": [
    "class Animal():\n",
    "    def eating(self, food : str)->None:\n",
    "        print(f\"Animal is eating {food}\")\n",
    "\n",
    "class Bird(Animal):\n",
    "    def eating(self, food: str) -> None: #overriding same eating is added to both classes\n",
    "        print(f\"Bird is eating {food}\")\n",
    "\n",
    "bird : Bird = Bird()\n",
    "bird.eating(\"bread\")\n",
    "\n",
    "animal : Animal = Animal()\n",
    "animal.eating(\"grass\")\n",
    "\n"
   ]
  },
  {
   "cell_type": "code",
   "execution_count": 3,
   "metadata": {},
   "outputs": [
    {
     "name": "stdout",
     "output_type": "stream",
     "text": [
      "Bird is eating grass\n"
     ]
    }
   ],
   "source": [
    "# Polymorphism\n",
    "animal : Animal = Bird()\n",
    "animal.eating(\"grass\")\n"
   ]
  },
  {
   "cell_type": "markdown",
   "metadata": {},
   "source": [
    "## https://realpython.com/python-callable-instances/"
   ]
  },
  {
   "cell_type": "code",
   "execution_count": null,
   "metadata": {},
   "outputs": [],
   "source": []
  }
 ],
 "metadata": {
  "kernelspec": {
   "display_name": "fahadig",
   "language": "python",
   "name": "python3"
  },
  "language_info": {
   "codemirror_mode": {
    "name": "ipython",
    "version": 3
   },
   "file_extension": ".py",
   "mimetype": "text/x-python",
   "name": "python",
   "nbconvert_exporter": "python",
   "pygments_lexer": "ipython3",
   "version": "3.12.0"
  }
 },
 "nbformat": 4,
 "nbformat_minor": 2
}
